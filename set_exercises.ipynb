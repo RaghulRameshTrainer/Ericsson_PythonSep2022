{
 "cells": [
  {
   "cell_type": "markdown",
   "id": "a596c3c1",
   "metadata": {},
   "source": [
    "# SET"
   ]
  },
  {
   "cell_type": "code",
   "execution_count": null,
   "id": "b0ded240",
   "metadata": {},
   "outputs": [],
   "source": [
    "[]\n",
    "()\n",
    "{}\n",
    "{}"
   ]
  },
  {
   "cell_type": "code",
   "execution_count": null,
   "id": "9b82583b",
   "metadata": {},
   "outputs": [],
   "source": [
    "Set will not store the duplicate values\n",
    "set will store the elements in an order"
   ]
  },
  {
   "cell_type": "code",
   "execution_count": 1,
   "id": "0b90517e",
   "metadata": {},
   "outputs": [],
   "source": [
    "myset={6,1,2,5,4,2,1,4,5,6,7,4,3,6,7,10,9,8,7,6,6,5,4,2,6,7,8,10}"
   ]
  },
  {
   "cell_type": "code",
   "execution_count": 2,
   "id": "a49bf59f",
   "metadata": {},
   "outputs": [
    {
     "data": {
      "text/plain": [
       "{1, 2, 3, 4, 5, 6, 7, 8, 9, 10}"
      ]
     },
     "execution_count": 2,
     "metadata": {},
     "output_type": "execute_result"
    }
   ],
   "source": [
    "myset"
   ]
  },
  {
   "cell_type": "code",
   "execution_count": 3,
   "id": "1bdff7bf",
   "metadata": {},
   "outputs": [],
   "source": [
    "myset.add(5)"
   ]
  },
  {
   "cell_type": "code",
   "execution_count": 4,
   "id": "309cb590",
   "metadata": {},
   "outputs": [
    {
     "data": {
      "text/plain": [
       "{1, 2, 3, 4, 5, 6, 7, 8, 9, 10}"
      ]
     },
     "execution_count": 4,
     "metadata": {},
     "output_type": "execute_result"
    }
   ],
   "source": [
    "myset"
   ]
  },
  {
   "cell_type": "code",
   "execution_count": 5,
   "id": "a62d79d1",
   "metadata": {},
   "outputs": [],
   "source": [
    "myset.add(15)"
   ]
  },
  {
   "cell_type": "code",
   "execution_count": 6,
   "id": "a148bea9",
   "metadata": {},
   "outputs": [
    {
     "data": {
      "text/plain": [
       "{1, 2, 3, 4, 5, 6, 7, 8, 9, 10, 15}"
      ]
     },
     "execution_count": 6,
     "metadata": {},
     "output_type": "execute_result"
    }
   ],
   "source": [
    "myset"
   ]
  },
  {
   "cell_type": "code",
   "execution_count": 7,
   "id": "ef0376ac",
   "metadata": {},
   "outputs": [],
   "source": [
    "x={4,6,8,4,2332,55,2,1}"
   ]
  },
  {
   "cell_type": "code",
   "execution_count": 8,
   "id": "aa3c16a8",
   "metadata": {},
   "outputs": [
    {
     "data": {
      "text/plain": [
       "{1, 2, 4, 6, 8, 55, 2332}"
      ]
     },
     "execution_count": 8,
     "metadata": {},
     "output_type": "execute_result"
    }
   ],
   "source": [
    "x"
   ]
  },
  {
   "cell_type": "code",
   "execution_count": 9,
   "id": "d5033a07",
   "metadata": {},
   "outputs": [
    {
     "data": {
      "text/plain": [
       "set"
      ]
     },
     "execution_count": 9,
     "metadata": {},
     "output_type": "execute_result"
    }
   ],
   "source": [
    "type(x)"
   ]
  },
  {
   "cell_type": "code",
   "execution_count": 10,
   "id": "81d05f90",
   "metadata": {},
   "outputs": [],
   "source": [
    "y={'x':10,'y':20}"
   ]
  },
  {
   "cell_type": "code",
   "execution_count": 11,
   "id": "6a731218",
   "metadata": {},
   "outputs": [
    {
     "data": {
      "text/plain": [
       "dict"
      ]
     },
     "execution_count": 11,
     "metadata": {},
     "output_type": "execute_result"
    }
   ],
   "source": [
    "type(y)"
   ]
  },
  {
   "cell_type": "code",
   "execution_count": 12,
   "id": "0d83b835",
   "metadata": {},
   "outputs": [
    {
     "data": {
      "text/plain": [
       "{1, 2, 4, 6, 8, 55, 2332}"
      ]
     },
     "execution_count": 12,
     "metadata": {},
     "output_type": "execute_result"
    }
   ],
   "source": [
    "x"
   ]
  },
  {
   "cell_type": "code",
   "execution_count": 13,
   "id": "862841b2",
   "metadata": {},
   "outputs": [],
   "source": [
    "x.remove(8)"
   ]
  },
  {
   "cell_type": "code",
   "execution_count": 14,
   "id": "851db81e",
   "metadata": {},
   "outputs": [
    {
     "data": {
      "text/plain": [
       "{1, 2, 4, 6, 55, 2332}"
      ]
     },
     "execution_count": 14,
     "metadata": {},
     "output_type": "execute_result"
    }
   ],
   "source": [
    "x"
   ]
  },
  {
   "cell_type": "code",
   "execution_count": 15,
   "id": "d4ca7573",
   "metadata": {},
   "outputs": [],
   "source": [
    "x.add(10)"
   ]
  },
  {
   "cell_type": "code",
   "execution_count": 16,
   "id": "30265202",
   "metadata": {},
   "outputs": [
    {
     "data": {
      "text/plain": [
       "{1, 2, 4, 6, 10, 55, 2332}"
      ]
     },
     "execution_count": 16,
     "metadata": {},
     "output_type": "execute_result"
    }
   ],
   "source": [
    "x"
   ]
  },
  {
   "cell_type": "code",
   "execution_count": null,
   "id": "5ba79651",
   "metadata": {},
   "outputs": [],
   "source": [
    "#union, intersection, difference"
   ]
  },
  {
   "cell_type": "code",
   "execution_count": 17,
   "id": "1ebb83b5",
   "metadata": {},
   "outputs": [],
   "source": [
    "odds={1,3,5,7,9}\n",
    "even={2,4,6,8,10}\n",
    "prime={1,2,3,5,7}\n",
    "composites={1,2,3,5,6,7,8}"
   ]
  },
  {
   "cell_type": "code",
   "execution_count": 18,
   "id": "b323bf15",
   "metadata": {},
   "outputs": [
    {
     "data": {
      "text/plain": [
       "{1, 2, 3, 4, 5, 6, 7, 8, 9, 10}"
      ]
     },
     "execution_count": 18,
     "metadata": {},
     "output_type": "execute_result"
    }
   ],
   "source": [
    "odds.union(even)"
   ]
  },
  {
   "cell_type": "code",
   "execution_count": 19,
   "id": "f819d17a",
   "metadata": {},
   "outputs": [
    {
     "data": {
      "text/plain": [
       "{1, 2, 3, 4, 5, 6, 7, 8, 9, 10}"
      ]
     },
     "execution_count": 19,
     "metadata": {},
     "output_type": "execute_result"
    }
   ],
   "source": [
    "even.union(odds)"
   ]
  },
  {
   "cell_type": "code",
   "execution_count": 20,
   "id": "18fef253",
   "metadata": {},
   "outputs": [
    {
     "data": {
      "text/plain": [
       "{1, 3, 5, 7}"
      ]
     },
     "execution_count": 20,
     "metadata": {},
     "output_type": "execute_result"
    }
   ],
   "source": [
    "odds.intersection(prime)"
   ]
  },
  {
   "cell_type": "code",
   "execution_count": 21,
   "id": "37257651",
   "metadata": {},
   "outputs": [
    {
     "data": {
      "text/plain": [
       "{2, 6, 8}"
      ]
     },
     "execution_count": 21,
     "metadata": {},
     "output_type": "execute_result"
    }
   ],
   "source": [
    "composites.difference(odds)"
   ]
  },
  {
   "cell_type": "code",
   "execution_count": 22,
   "id": "f633e930",
   "metadata": {},
   "outputs": [
    {
     "data": {
      "text/plain": [
       "{9}"
      ]
     },
     "execution_count": 22,
     "metadata": {},
     "output_type": "execute_result"
    }
   ],
   "source": [
    "odds.difference(composites)"
   ]
  },
  {
   "cell_type": "code",
   "execution_count": 23,
   "id": "13dbb983",
   "metadata": {},
   "outputs": [
    {
     "data": {
      "text/plain": [
       "{2, 6, 8, 9}"
      ]
     },
     "execution_count": 23,
     "metadata": {},
     "output_type": "execute_result"
    }
   ],
   "source": [
    "(composites.difference(odds)).union(odds.difference(composites))"
   ]
  },
  {
   "cell_type": "code",
   "execution_count": 24,
   "id": "19cdf669",
   "metadata": {},
   "outputs": [
    {
     "data": {
      "text/plain": [
       "{2, 6, 8, 9}"
      ]
     },
     "execution_count": 24,
     "metadata": {},
     "output_type": "execute_result"
    }
   ],
   "source": [
    "composites.symmetric_difference(odds)"
   ]
  },
  {
   "cell_type": "code",
   "execution_count": 25,
   "id": "49cdbd28",
   "metadata": {},
   "outputs": [
    {
     "data": {
      "text/plain": [
       "{1, 3, 5, 7}"
      ]
     },
     "execution_count": 25,
     "metadata": {},
     "output_type": "execute_result"
    }
   ],
   "source": [
    "composites.intersection(odds)"
   ]
  },
  {
   "cell_type": "code",
   "execution_count": 26,
   "id": "13ad1d2c",
   "metadata": {},
   "outputs": [],
   "source": [
    "l1=[1,2,3,4,5]\n",
    "l2=[4,5,6,7,8]"
   ]
  },
  {
   "cell_type": "code",
   "execution_count": 27,
   "id": "05c75ace",
   "metadata": {},
   "outputs": [
    {
     "data": {
      "text/plain": [
       "{4, 5}"
      ]
     },
     "execution_count": 27,
     "metadata": {},
     "output_type": "execute_result"
    }
   ],
   "source": [
    "set(l1).intersection(l2)"
   ]
  },
  {
   "cell_type": "code",
   "execution_count": null,
   "id": "b55344a3",
   "metadata": {},
   "outputs": [],
   "source": [
    "employees={'Rajesh','Siva','Venkatesh','Levin','Dinesh','Ramya'}\n",
    "developers={'Rajesh','R'}"
   ]
  }
 ],
 "metadata": {
  "kernelspec": {
   "display_name": "Python 3 (ipykernel)",
   "language": "python",
   "name": "python3"
  },
  "language_info": {
   "codemirror_mode": {
    "name": "ipython",
    "version": 3
   },
   "file_extension": ".py",
   "mimetype": "text/x-python",
   "name": "python",
   "nbconvert_exporter": "python",
   "pygments_lexer": "ipython3",
   "version": "3.8.10"
  }
 },
 "nbformat": 4,
 "nbformat_minor": 5
}
