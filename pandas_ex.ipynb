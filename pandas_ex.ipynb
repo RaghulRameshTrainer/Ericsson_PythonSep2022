{
 "cells": [
  {
   "cell_type": "code",
   "execution_count": 13,
   "id": "542d8f20",
   "metadata": {},
   "outputs": [],
   "source": [
    "import pandas as pd\n",
    "pd.set_option(\"display.max_rows\",500)\n",
    "pd.set_option(\"display.max_columns\",500)"
   ]
  },
  {
   "cell_type": "code",
   "execution_count": 39,
   "id": "1e80b577",
   "metadata": {},
   "outputs": [
    {
     "name": "stdout",
     "output_type": "stream",
     "text": [
      "Requirement already satisfied: pandas in c:\\users\\raghulramesh\\appdata\\local\\programs\\python\\python38\\lib\\site-packages (1.4.2)\n",
      "Requirement already satisfied: numpy>=1.18.5 in c:\\users\\raghulramesh\\appdata\\local\\programs\\python\\python38\\lib\\site-packages (from pandas) (1.22.3)\n",
      "Requirement already satisfied: python-dateutil>=2.8.1 in c:\\users\\raghulramesh\\appdata\\local\\programs\\python\\python38\\lib\\site-packages (from pandas) (2.8.2)\n",
      "Requirement already satisfied: pytz>=2020.1 in c:\\users\\raghulramesh\\appdata\\local\\programs\\python\\python38\\lib\\site-packages (from pandas) (2022.1)\n",
      "Requirement already satisfied: six>=1.5 in c:\\users\\raghulramesh\\appdata\\local\\programs\\python\\python38\\lib\\site-packages (from python-dateutil>=2.8.1->pandas) (1.16.0)\n",
      "\n",
      "[notice] A new release of pip available: 22.1.2 -> 22.2.2\n",
      "[notice] To update, run: python.exe -m pip install --upgrade pip\n",
      "Note: you may need to restart the kernel to use updated packages.\n"
     ]
    }
   ],
   "source": [
    "print()"
   ]
  },
  {
   "cell_type": "code",
   "execution_count": 3,
   "id": "f3bf3161",
   "metadata": {},
   "outputs": [],
   "source": [
    "df=pd.read_csv(r\"C:\\Users\\RaghulRamesh\\Downloads\\18 - Day - 18 - Linear Regression Practise Python\\18 - Day - 18 - Linear Regression Practise Python\\company.csv\")"
   ]
  },
  {
   "cell_type": "code",
   "execution_count": 4,
   "id": "0ab874be",
   "metadata": {},
   "outputs": [
    {
     "data": {
      "text/html": [
       "<div>\n",
       "<style scoped>\n",
       "    .dataframe tbody tr th:only-of-type {\n",
       "        vertical-align: middle;\n",
       "    }\n",
       "\n",
       "    .dataframe tbody tr th {\n",
       "        vertical-align: top;\n",
       "    }\n",
       "\n",
       "    .dataframe thead th {\n",
       "        text-align: right;\n",
       "    }\n",
       "</style>\n",
       "<table border=\"1\" class=\"dataframe\">\n",
       "  <thead>\n",
       "    <tr style=\"text-align: right;\">\n",
       "      <th></th>\n",
       "      <th>Company</th>\n",
       "      <th>Age</th>\n",
       "      <th>Salary</th>\n",
       "      <th>Place</th>\n",
       "    </tr>\n",
       "  </thead>\n",
       "  <tbody>\n",
       "    <tr>\n",
       "      <th>0</th>\n",
       "      <td>TCS</td>\n",
       "      <td>20.0</td>\n",
       "      <td>NaN</td>\n",
       "      <td>Chennai</td>\n",
       "    </tr>\n",
       "    <tr>\n",
       "      <th>1</th>\n",
       "      <td>Infosys</td>\n",
       "      <td>30.0</td>\n",
       "      <td>NaN</td>\n",
       "      <td>Mumbai</td>\n",
       "    </tr>\n",
       "    <tr>\n",
       "      <th>2</th>\n",
       "      <td>TCS</td>\n",
       "      <td>35.0</td>\n",
       "      <td>2300.0</td>\n",
       "      <td>Calcutta</td>\n",
       "    </tr>\n",
       "    <tr>\n",
       "      <th>3</th>\n",
       "      <td>Infosys</td>\n",
       "      <td>40.0</td>\n",
       "      <td>3000.0</td>\n",
       "      <td>Delhi</td>\n",
       "    </tr>\n",
       "    <tr>\n",
       "      <th>4</th>\n",
       "      <td>TCS</td>\n",
       "      <td>23.0</td>\n",
       "      <td>4000.0</td>\n",
       "      <td>Mumbai</td>\n",
       "    </tr>\n",
       "  </tbody>\n",
       "</table>\n",
       "</div>"
      ],
      "text/plain": [
       "   Company   Age  Salary     Place\n",
       "0      TCS  20.0     NaN   Chennai\n",
       "1  Infosys  30.0     NaN    Mumbai\n",
       "2      TCS  35.0  2300.0  Calcutta\n",
       "3  Infosys  40.0  3000.0     Delhi\n",
       "4      TCS  23.0  4000.0    Mumbai"
      ]
     },
     "execution_count": 4,
     "metadata": {},
     "output_type": "execute_result"
    }
   ],
   "source": [
    "df.head()"
   ]
  },
  {
   "cell_type": "code",
   "execution_count": 5,
   "id": "8a11d48e",
   "metadata": {},
   "outputs": [
    {
     "data": {
      "text/html": [
       "<div>\n",
       "<style scoped>\n",
       "    .dataframe tbody tr th:only-of-type {\n",
       "        vertical-align: middle;\n",
       "    }\n",
       "\n",
       "    .dataframe tbody tr th {\n",
       "        vertical-align: top;\n",
       "    }\n",
       "\n",
       "    .dataframe thead th {\n",
       "        text-align: right;\n",
       "    }\n",
       "</style>\n",
       "<table border=\"1\" class=\"dataframe\">\n",
       "  <thead>\n",
       "    <tr style=\"text-align: right;\">\n",
       "      <th></th>\n",
       "      <th>Company</th>\n",
       "      <th>Age</th>\n",
       "      <th>Salary</th>\n",
       "      <th>Place</th>\n",
       "    </tr>\n",
       "  </thead>\n",
       "  <tbody>\n",
       "    <tr>\n",
       "      <th>143</th>\n",
       "      <td>TCS</td>\n",
       "      <td>33.0</td>\n",
       "      <td>9024.0</td>\n",
       "      <td>Calcutta</td>\n",
       "    </tr>\n",
       "    <tr>\n",
       "      <th>144</th>\n",
       "      <td>Infosys</td>\n",
       "      <td>22.0</td>\n",
       "      <td>8787.0</td>\n",
       "      <td>Calcutta</td>\n",
       "    </tr>\n",
       "    <tr>\n",
       "      <th>145</th>\n",
       "      <td>Infosys</td>\n",
       "      <td>44.0</td>\n",
       "      <td>4034.0</td>\n",
       "      <td>Delhi</td>\n",
       "    </tr>\n",
       "    <tr>\n",
       "      <th>146</th>\n",
       "      <td>TCS</td>\n",
       "      <td>33.0</td>\n",
       "      <td>5034.0</td>\n",
       "      <td>Mumbai</td>\n",
       "    </tr>\n",
       "    <tr>\n",
       "      <th>147</th>\n",
       "      <td>Infosys</td>\n",
       "      <td>22.0</td>\n",
       "      <td>8202.0</td>\n",
       "      <td>Cochin</td>\n",
       "    </tr>\n",
       "  </tbody>\n",
       "</table>\n",
       "</div>"
      ],
      "text/plain": [
       "     Company   Age  Salary     Place\n",
       "143      TCS  33.0  9024.0  Calcutta\n",
       "144  Infosys  22.0  8787.0  Calcutta\n",
       "145  Infosys  44.0  4034.0     Delhi\n",
       "146      TCS  33.0  5034.0    Mumbai\n",
       "147  Infosys  22.0  8202.0    Cochin"
      ]
     },
     "execution_count": 5,
     "metadata": {},
     "output_type": "execute_result"
    }
   ],
   "source": [
    "df.tail()"
   ]
  },
  {
   "cell_type": "code",
   "execution_count": 6,
   "id": "0d102325",
   "metadata": {},
   "outputs": [
    {
     "data": {
      "text/html": [
       "<div>\n",
       "<style scoped>\n",
       "    .dataframe tbody tr th:only-of-type {\n",
       "        vertical-align: middle;\n",
       "    }\n",
       "\n",
       "    .dataframe tbody tr th {\n",
       "        vertical-align: top;\n",
       "    }\n",
       "\n",
       "    .dataframe thead th {\n",
       "        text-align: right;\n",
       "    }\n",
       "</style>\n",
       "<table border=\"1\" class=\"dataframe\">\n",
       "  <thead>\n",
       "    <tr style=\"text-align: right;\">\n",
       "      <th></th>\n",
       "      <th>Company</th>\n",
       "      <th>Age</th>\n",
       "      <th>Salary</th>\n",
       "      <th>Place</th>\n",
       "    </tr>\n",
       "  </thead>\n",
       "  <tbody>\n",
       "    <tr>\n",
       "      <th>0</th>\n",
       "      <td>TCS</td>\n",
       "      <td>20.0</td>\n",
       "      <td>NaN</td>\n",
       "      <td>Chennai</td>\n",
       "    </tr>\n",
       "    <tr>\n",
       "      <th>1</th>\n",
       "      <td>Infosys</td>\n",
       "      <td>30.0</td>\n",
       "      <td>NaN</td>\n",
       "      <td>Mumbai</td>\n",
       "    </tr>\n",
       "    <tr>\n",
       "      <th>2</th>\n",
       "      <td>TCS</td>\n",
       "      <td>35.0</td>\n",
       "      <td>2300.0</td>\n",
       "      <td>Calcutta</td>\n",
       "    </tr>\n",
       "    <tr>\n",
       "      <th>3</th>\n",
       "      <td>Infosys</td>\n",
       "      <td>40.0</td>\n",
       "      <td>3000.0</td>\n",
       "      <td>Delhi</td>\n",
       "    </tr>\n",
       "    <tr>\n",
       "      <th>4</th>\n",
       "      <td>TCS</td>\n",
       "      <td>23.0</td>\n",
       "      <td>4000.0</td>\n",
       "      <td>Mumbai</td>\n",
       "    </tr>\n",
       "    <tr>\n",
       "      <th>5</th>\n",
       "      <td>Infosys</td>\n",
       "      <td>NaN</td>\n",
       "      <td>5000.0</td>\n",
       "      <td>Calcutta</td>\n",
       "    </tr>\n",
       "    <tr>\n",
       "      <th>6</th>\n",
       "      <td>TCS</td>\n",
       "      <td>NaN</td>\n",
       "      <td>6000.0</td>\n",
       "      <td>Chennai</td>\n",
       "    </tr>\n",
       "    <tr>\n",
       "      <th>7</th>\n",
       "      <td>Infosys</td>\n",
       "      <td>23.0</td>\n",
       "      <td>7000.0</td>\n",
       "      <td>Mumbai</td>\n",
       "    </tr>\n",
       "    <tr>\n",
       "      <th>8</th>\n",
       "      <td>TCS</td>\n",
       "      <td>34.0</td>\n",
       "      <td>8000.0</td>\n",
       "      <td>Calcutta</td>\n",
       "    </tr>\n",
       "    <tr>\n",
       "      <th>9</th>\n",
       "      <td>CTS</td>\n",
       "      <td>45.0</td>\n",
       "      <td>9000.0</td>\n",
       "      <td>Delhi</td>\n",
       "    </tr>\n",
       "  </tbody>\n",
       "</table>\n",
       "</div>"
      ],
      "text/plain": [
       "   Company   Age  Salary     Place\n",
       "0      TCS  20.0     NaN   Chennai\n",
       "1  Infosys  30.0     NaN    Mumbai\n",
       "2      TCS  35.0  2300.0  Calcutta\n",
       "3  Infosys  40.0  3000.0     Delhi\n",
       "4      TCS  23.0  4000.0    Mumbai\n",
       "5  Infosys   NaN  5000.0  Calcutta\n",
       "6      TCS   NaN  6000.0   Chennai\n",
       "7  Infosys  23.0  7000.0    Mumbai\n",
       "8      TCS  34.0  8000.0  Calcutta\n",
       "9      CTS  45.0  9000.0     Delhi"
      ]
     },
     "execution_count": 6,
     "metadata": {},
     "output_type": "execute_result"
    }
   ],
   "source": [
    "df.head(10)"
   ]
  },
  {
   "cell_type": "code",
   "execution_count": 7,
   "id": "5df25d91",
   "metadata": {},
   "outputs": [
    {
     "data": {
      "text/html": [
       "<div>\n",
       "<style scoped>\n",
       "    .dataframe tbody tr th:only-of-type {\n",
       "        vertical-align: middle;\n",
       "    }\n",
       "\n",
       "    .dataframe tbody tr th {\n",
       "        vertical-align: top;\n",
       "    }\n",
       "\n",
       "    .dataframe thead th {\n",
       "        text-align: right;\n",
       "    }\n",
       "</style>\n",
       "<table border=\"1\" class=\"dataframe\">\n",
       "  <thead>\n",
       "    <tr style=\"text-align: right;\">\n",
       "      <th></th>\n",
       "      <th>Company</th>\n",
       "      <th>Age</th>\n",
       "      <th>Salary</th>\n",
       "      <th>Place</th>\n",
       "    </tr>\n",
       "  </thead>\n",
       "  <tbody>\n",
       "    <tr>\n",
       "      <th>0</th>\n",
       "      <td>TCS</td>\n",
       "      <td>20.0</td>\n",
       "      <td>NaN</td>\n",
       "      <td>Chennai</td>\n",
       "    </tr>\n",
       "    <tr>\n",
       "      <th>1</th>\n",
       "      <td>Infosys</td>\n",
       "      <td>30.0</td>\n",
       "      <td>NaN</td>\n",
       "      <td>Mumbai</td>\n",
       "    </tr>\n",
       "  </tbody>\n",
       "</table>\n",
       "</div>"
      ],
      "text/plain": [
       "   Company   Age  Salary    Place\n",
       "0      TCS  20.0     NaN  Chennai\n",
       "1  Infosys  30.0     NaN   Mumbai"
      ]
     },
     "execution_count": 7,
     "metadata": {},
     "output_type": "execute_result"
    }
   ],
   "source": [
    "df.head(2)"
   ]
  },
  {
   "cell_type": "code",
   "execution_count": 8,
   "id": "4acc0eb5",
   "metadata": {},
   "outputs": [
    {
     "name": "stdout",
     "output_type": "stream",
     "text": [
      "<class 'pandas.core.frame.DataFrame'>\n",
      "RangeIndex: 148 entries, 0 to 147\n",
      "Data columns (total 4 columns):\n",
      " #   Column   Non-Null Count  Dtype  \n",
      "---  ------   --------------  -----  \n",
      " 0   Company  140 non-null    object \n",
      " 1   Age      130 non-null    float64\n",
      " 2   Salary   124 non-null    float64\n",
      " 3   Place    134 non-null    object \n",
      "dtypes: float64(2), object(2)\n",
      "memory usage: 4.8+ KB\n"
     ]
    }
   ],
   "source": [
    "df.info()"
   ]
  },
  {
   "cell_type": "code",
   "execution_count": 9,
   "id": "10e0de5a",
   "metadata": {},
   "outputs": [
    {
     "data": {
      "text/html": [
       "<div>\n",
       "<style scoped>\n",
       "    .dataframe tbody tr th:only-of-type {\n",
       "        vertical-align: middle;\n",
       "    }\n",
       "\n",
       "    .dataframe tbody tr th {\n",
       "        vertical-align: top;\n",
       "    }\n",
       "\n",
       "    .dataframe thead th {\n",
       "        text-align: right;\n",
       "    }\n",
       "</style>\n",
       "<table border=\"1\" class=\"dataframe\">\n",
       "  <thead>\n",
       "    <tr style=\"text-align: right;\">\n",
       "      <th></th>\n",
       "      <th>Age</th>\n",
       "      <th>Salary</th>\n",
       "    </tr>\n",
       "  </thead>\n",
       "  <tbody>\n",
       "    <tr>\n",
       "      <th>count</th>\n",
       "      <td>130.000000</td>\n",
       "      <td>124.000000</td>\n",
       "    </tr>\n",
       "    <tr>\n",
       "      <th>mean</th>\n",
       "      <td>30.484615</td>\n",
       "      <td>5312.467742</td>\n",
       "    </tr>\n",
       "    <tr>\n",
       "      <th>std</th>\n",
       "      <td>11.096640</td>\n",
       "      <td>2573.764683</td>\n",
       "    </tr>\n",
       "    <tr>\n",
       "      <th>min</th>\n",
       "      <td>0.000000</td>\n",
       "      <td>1089.000000</td>\n",
       "    </tr>\n",
       "    <tr>\n",
       "      <th>25%</th>\n",
       "      <td>22.000000</td>\n",
       "      <td>3030.000000</td>\n",
       "    </tr>\n",
       "    <tr>\n",
       "      <th>50%</th>\n",
       "      <td>32.500000</td>\n",
       "      <td>5000.000000</td>\n",
       "    </tr>\n",
       "    <tr>\n",
       "      <th>75%</th>\n",
       "      <td>37.750000</td>\n",
       "      <td>8000.000000</td>\n",
       "    </tr>\n",
       "    <tr>\n",
       "      <th>max</th>\n",
       "      <td>54.000000</td>\n",
       "      <td>9876.000000</td>\n",
       "    </tr>\n",
       "  </tbody>\n",
       "</table>\n",
       "</div>"
      ],
      "text/plain": [
       "              Age       Salary\n",
       "count  130.000000   124.000000\n",
       "mean    30.484615  5312.467742\n",
       "std     11.096640  2573.764683\n",
       "min      0.000000  1089.000000\n",
       "25%     22.000000  3030.000000\n",
       "50%     32.500000  5000.000000\n",
       "75%     37.750000  8000.000000\n",
       "max     54.000000  9876.000000"
      ]
     },
     "execution_count": 9,
     "metadata": {},
     "output_type": "execute_result"
    }
   ],
   "source": [
    "df.describe()"
   ]
  },
  {
   "cell_type": "code",
   "execution_count": 11,
   "id": "aee56d09",
   "metadata": {},
   "outputs": [
    {
     "data": {
      "text/plain": [
       "Index(['Company', 'Age', 'Salary', 'Place'], dtype='object')"
      ]
     },
     "execution_count": 11,
     "metadata": {},
     "output_type": "execute_result"
    }
   ],
   "source": [
    "df.columns"
   ]
  },
  {
   "cell_type": "code",
   "execution_count": 14,
   "id": "26204153",
   "metadata": {},
   "outputs": [
    {
     "data": {
      "text/plain": [
       "0                            TCS\n",
       "1                        Infosys\n",
       "2                            TCS\n",
       "3                        Infosys\n",
       "4                            TCS\n",
       "5                        Infosys\n",
       "6                            TCS\n",
       "7                        Infosys\n",
       "8                            TCS\n",
       "9                            CTS\n",
       "10                           CTS\n",
       "11                           CTS\n",
       "12                           CTS\n",
       "13                           CTS\n",
       "14                       Infosys\n",
       "15                           TCS\n",
       "16                       Infosys\n",
       "17                           TCS\n",
       "18                           TCS\n",
       "19                       Infosys\n",
       "20                           TCS\n",
       "21                       Infosys\n",
       "22                           TCS\n",
       "23                       Infosys\n",
       "24                           TCS\n",
       "25                       Infosys\n",
       "26                           TCS\n",
       "27                           CTS\n",
       "28                           CTS\n",
       "29                           CTS\n",
       "30                           CTS\n",
       "31                           CTS\n",
       "32                       Infosys\n",
       "33                           TCS\n",
       "34                       Infosys\n",
       "35                           TCS\n",
       "36                           TCS\n",
       "37                           NaN\n",
       "38                           TCS\n",
       "39                       Infosys\n",
       "40                           TCS\n",
       "41                       Infosys\n",
       "42                           TCS\n",
       "43                       Infosys\n",
       "44                           TCS\n",
       "45                           CTS\n",
       "46                           CTS\n",
       "47                           CTS\n",
       "48                           CTS\n",
       "49                           CTS\n",
       "50                       Infosys\n",
       "51                           NaN\n",
       "52                       Infosys\n",
       "53                           TCS\n",
       "54                           TCS\n",
       "55                       Infosys\n",
       "56                           TCS\n",
       "57                       Infosys\n",
       "58                           TCS\n",
       "59                       Infosys\n",
       "60                           TCS\n",
       "61                           NaN\n",
       "62     Tata Consultancy Services\n",
       "63                           CTS\n",
       "64                           NaN\n",
       "65                           CTS\n",
       "66                           CTS\n",
       "67                    Congnizant\n",
       "68                       Infosys\n",
       "69                           TCS\n",
       "70               Infosys Pvt Lmt\n",
       "71                           TCS\n",
       "72                           TCS\n",
       "73                       Infosys\n",
       "74                           TCS\n",
       "75                       Infosys\n",
       "76                           TCS\n",
       "77                       Infosys\n",
       "78                           TCS\n",
       "79                       Infosys\n",
       "80                           TCS\n",
       "81                           CTS\n",
       "82                           CTS\n",
       "83                           CTS\n",
       "84                           CTS\n",
       "85                           CTS\n",
       "86                       Infosys\n",
       "87                           TCS\n",
       "88                       Infosys\n",
       "89                           TCS\n",
       "90                           TCS\n",
       "91                       Infosys\n",
       "92                           TCS\n",
       "93                       Infosys\n",
       "94                           TCS\n",
       "95                       Infosys\n",
       "96                           TCS\n",
       "97                       Infosys\n",
       "98                           TCS\n",
       "99                           CTS\n",
       "100                          CTS\n",
       "101                          CTS\n",
       "102                          CTS\n",
       "103                          CTS\n",
       "104                      Infosys\n",
       "105                          TCS\n",
       "106                      Infosys\n",
       "107                          TCS\n",
       "108                          TCS\n",
       "109                          NaN\n",
       "110                          TCS\n",
       "111                      Infosys\n",
       "112                          TCS\n",
       "113                      Infosys\n",
       "114                          TCS\n",
       "115                      Infosys\n",
       "116                          TCS\n",
       "117                          CTS\n",
       "118                          CTS\n",
       "119                          CTS\n",
       "120                          CTS\n",
       "121                          CTS\n",
       "122                      Infosys\n",
       "123                          NaN\n",
       "124                      Infosys\n",
       "125                          TCS\n",
       "126                          TCS\n",
       "127                      Infosys\n",
       "128                          TCS\n",
       "129                      Infosys\n",
       "130                          TCS\n",
       "131                      Infosys\n",
       "132                          TCS\n",
       "133                          NaN\n",
       "134    Tata Consultancy Services\n",
       "135                          CTS\n",
       "136                          NaN\n",
       "137                          CTS\n",
       "138                          CTS\n",
       "139                   Congnizant\n",
       "140                      Infosys\n",
       "141                          TCS\n",
       "142              Infosys Pvt Lmt\n",
       "143                          TCS\n",
       "144                      Infosys\n",
       "145                      Infosys\n",
       "146                          TCS\n",
       "147                      Infosys\n",
       "Name: Company, dtype: object"
      ]
     },
     "execution_count": 14,
     "metadata": {},
     "output_type": "execute_result"
    }
   ],
   "source": [
    "df[\"Company\"]"
   ]
  },
  {
   "cell_type": "code",
   "execution_count": 15,
   "id": "063a5c04",
   "metadata": {},
   "outputs": [
    {
     "data": {
      "text/plain": [
       "TCS                          53\n",
       "Infosys                      45\n",
       "CTS                          36\n",
       "Tata Consultancy Services     2\n",
       "Congnizant                    2\n",
       "Infosys Pvt Lmt               2\n",
       "Name: Company, dtype: int64"
      ]
     },
     "execution_count": 15,
     "metadata": {},
     "output_type": "execute_result"
    }
   ],
   "source": [
    "df['Company'].value_counts()"
   ]
  },
  {
   "cell_type": "code",
   "execution_count": 21,
   "id": "27a58826",
   "metadata": {},
   "outputs": [],
   "source": [
    "df['Company'].replace({'Tata Consultancy Services':'TCS','Infosys Pvt Lmt':'Infosys','Congnizant':'CTS'},inplace=True)"
   ]
  },
  {
   "cell_type": "code",
   "execution_count": 22,
   "id": "ccbf32e1",
   "metadata": {},
   "outputs": [
    {
     "data": {
      "text/plain": [
       "TCS        55\n",
       "Infosys    47\n",
       "CTS        38\n",
       "Name: Company, dtype: int64"
      ]
     },
     "execution_count": 22,
     "metadata": {},
     "output_type": "execute_result"
    }
   ],
   "source": [
    "df['Company'].value_counts()"
   ]
  },
  {
   "cell_type": "code",
   "execution_count": 42,
   "id": "03e86230",
   "metadata": {},
   "outputs": [
    {
     "data": {
      "text/plain": [
       "'TCS'"
      ]
     },
     "execution_count": 42,
     "metadata": {},
     "output_type": "execute_result"
    }
   ],
   "source": [
    "df['Company'].mode()[0]"
   ]
  },
  {
   "cell_type": "code",
   "execution_count": 36,
   "id": "53f8c5af",
   "metadata": {},
   "outputs": [],
   "source": [
    "df['Company']=df['Company'].fillna(df['Company'].mode()[0])"
   ]
  },
  {
   "cell_type": "code",
   "execution_count": 37,
   "id": "a5e31db7",
   "metadata": {},
   "outputs": [
    {
     "data": {
      "text/plain": [
       "TCS        63\n",
       "Infosys    47\n",
       "CTS        38\n",
       "Name: Company, dtype: int64"
      ]
     },
     "execution_count": 37,
     "metadata": {},
     "output_type": "execute_result"
    }
   ],
   "source": [
    "df['Company'].value_counts()"
   ]
  },
  {
   "cell_type": "code",
   "execution_count": 40,
   "id": "36d551eb",
   "metadata": {},
   "outputs": [
    {
     "data": {
      "text/plain": [
       "Index(['Company', 'Age', 'Salary', 'Place'], dtype='object')"
      ]
     },
     "execution_count": 40,
     "metadata": {},
     "output_type": "execute_result"
    }
   ],
   "source": [
    "df.columns"
   ]
  },
  {
   "cell_type": "code",
   "execution_count": 46,
   "id": "e32d3f89",
   "metadata": {},
   "outputs": [
    {
     "data": {
      "text/plain": [
       "18"
      ]
     },
     "execution_count": 46,
     "metadata": {},
     "output_type": "execute_result"
    }
   ],
   "source": [
    "df['Age'].isnull().sum()"
   ]
  },
  {
   "cell_type": "code",
   "execution_count": 47,
   "id": "a7558e75",
   "metadata": {},
   "outputs": [
    {
     "data": {
      "text/plain": [
       "30.484615384615385"
      ]
     },
     "execution_count": 47,
     "metadata": {},
     "output_type": "execute_result"
    }
   ],
   "source": [
    "df['Age'].mean()"
   ]
  },
  {
   "cell_type": "code",
   "execution_count": 48,
   "id": "2fe575b0",
   "metadata": {},
   "outputs": [],
   "source": [
    "df['Age'].fillna(df['Age'].mean(),inplace=True)"
   ]
  },
  {
   "cell_type": "code",
   "execution_count": 49,
   "id": "d15dc592",
   "metadata": {
    "collapsed": true
   },
   "outputs": [
    {
     "data": {
      "text/plain": [
       "0      20.000000\n",
       "1      30.000000\n",
       "2      35.000000\n",
       "3      40.000000\n",
       "4      23.000000\n",
       "5      30.484615\n",
       "6      30.484615\n",
       "7      23.000000\n",
       "8      34.000000\n",
       "9      45.000000\n",
       "10     23.000000\n",
       "11     34.000000\n",
       "12     45.000000\n",
       "13     18.000000\n",
       "14     40.000000\n",
       "15     23.000000\n",
       "16     23.000000\n",
       "17     34.000000\n",
       "18     22.000000\n",
       "19     32.000000\n",
       "20     37.000000\n",
       "21     50.000000\n",
       "22     21.000000\n",
       "23     30.484615\n",
       "24     30.484615\n",
       "25     23.000000\n",
       "26     34.000000\n",
       "27     45.000000\n",
       "28     23.000000\n",
       "29     35.000000\n",
       "30     46.000000\n",
       "31     20.000000\n",
       "32     45.000000\n",
       "33     36.000000\n",
       "34     26.000000\n",
       "35     35.000000\n",
       "36     32.000000\n",
       "37     35.000000\n",
       "38     34.000000\n",
       "39     41.000000\n",
       "40     24.000000\n",
       "41     30.484615\n",
       "42     30.484615\n",
       "43     25.000000\n",
       "44     35.000000\n",
       "45     46.000000\n",
       "46     24.000000\n",
       "47     32.000000\n",
       "48     43.000000\n",
       "49     19.000000\n",
       "50     41.000000\n",
       "51     24.000000\n",
       "52     21.000000\n",
       "53     35.000000\n",
       "54     21.000000\n",
       "55     32.000000\n",
       "56     38.000000\n",
       "57     51.000000\n",
       "58     23.000000\n",
       "59     30.484615\n",
       "60     30.484615\n",
       "61     25.000000\n",
       "62     36.000000\n",
       "63     41.000000\n",
       "64     25.000000\n",
       "65     31.000000\n",
       "66     41.000000\n",
       "67     21.000000\n",
       "68     43.000000\n",
       "69     32.000000\n",
       "70     21.000000\n",
       "71     34.000000\n",
       "72     24.000000\n",
       "73     34.000000\n",
       "74     37.000000\n",
       "75     44.000000\n",
       "76     32.000000\n",
       "77     30.484615\n",
       "78     30.484615\n",
       "79     26.000000\n",
       "80     32.000000\n",
       "81     43.000000\n",
       "82     22.000000\n",
       "83     33.000000\n",
       "84     43.000000\n",
       "85     17.000000\n",
       "86     41.000000\n",
       "87     21.000000\n",
       "88      0.000000\n",
       "89     36.000000\n",
       "90     21.000000\n",
       "91     34.000000\n",
       "92      0.000000\n",
       "93     54.000000\n",
       "94     22.000000\n",
       "95     30.484615\n",
       "96     30.484615\n",
       "97     22.000000\n",
       "98     33.000000\n",
       "99     44.000000\n",
       "100    22.000000\n",
       "101     0.000000\n",
       "102    44.000000\n",
       "103    22.000000\n",
       "104    44.000000\n",
       "105    33.000000\n",
       "106    22.000000\n",
       "107     0.000000\n",
       "108    33.000000\n",
       "109    33.000000\n",
       "110    33.000000\n",
       "111     0.000000\n",
       "112    22.000000\n",
       "113    30.484615\n",
       "114    30.484615\n",
       "115    22.000000\n",
       "116    33.000000\n",
       "117    44.000000\n",
       "118    22.000000\n",
       "119    33.000000\n",
       "120    44.000000\n",
       "121     0.000000\n",
       "122    44.000000\n",
       "123    30.484615\n",
       "124    22.000000\n",
       "125    33.000000\n",
       "126    20.000000\n",
       "127    30.000000\n",
       "128    33.000000\n",
       "129    50.000000\n",
       "130    21.000000\n",
       "131    30.484615\n",
       "132    30.484615\n",
       "133    22.000000\n",
       "134    31.000000\n",
       "135    40.000000\n",
       "136    30.484615\n",
       "137    31.000000\n",
       "138    44.000000\n",
       "139    22.000000\n",
       "140    44.000000\n",
       "141    33.000000\n",
       "142    22.000000\n",
       "143    33.000000\n",
       "144    22.000000\n",
       "145    44.000000\n",
       "146    33.000000\n",
       "147    22.000000\n",
       "Name: Age, dtype: float64"
      ]
     },
     "execution_count": 49,
     "metadata": {},
     "output_type": "execute_result"
    }
   ],
   "source": [
    "df['Age']"
   ]
  },
  {
   "cell_type": "code",
   "execution_count": 50,
   "id": "941cbd60",
   "metadata": {},
   "outputs": [
    {
     "data": {
      "text/plain": [
       "0"
      ]
     },
     "execution_count": 50,
     "metadata": {},
     "output_type": "execute_result"
    }
   ],
   "source": [
    "df['Age'].isnull().sum()"
   ]
  },
  {
   "cell_type": "code",
   "execution_count": 51,
   "id": "7c2771be",
   "metadata": {},
   "outputs": [
    {
     "data": {
      "text/plain": [
       "24"
      ]
     },
     "execution_count": 51,
     "metadata": {},
     "output_type": "execute_result"
    }
   ],
   "source": [
    "df['Salary'].isnull().sum()"
   ]
  },
  {
   "cell_type": "code",
   "execution_count": 52,
   "id": "adc5587e",
   "metadata": {},
   "outputs": [
    {
     "data": {
      "text/plain": [
       "5312.467741935484"
      ]
     },
     "execution_count": 52,
     "metadata": {},
     "output_type": "execute_result"
    }
   ],
   "source": [
    "df['Salary'].mean()"
   ]
  },
  {
   "cell_type": "code",
   "execution_count": 53,
   "id": "0f524428",
   "metadata": {},
   "outputs": [],
   "source": [
    "df['Salary'].fillna(df['Salary'].mean(),inplace=True)"
   ]
  },
  {
   "cell_type": "code",
   "execution_count": 54,
   "id": "bc8cbf47",
   "metadata": {},
   "outputs": [
    {
     "data": {
      "text/plain": [
       "0"
      ]
     },
     "execution_count": 54,
     "metadata": {},
     "output_type": "execute_result"
    }
   ],
   "source": [
    "df['Salary'].isnull().sum()"
   ]
  },
  {
   "cell_type": "code",
   "execution_count": 55,
   "id": "3af87a58",
   "metadata": {},
   "outputs": [
    {
     "data": {
      "text/plain": [
       "0      5312.467742\n",
       "1      5312.467742\n",
       "2      2300.000000\n",
       "3      3000.000000\n",
       "4      4000.000000\n",
       "5      5000.000000\n",
       "6      6000.000000\n",
       "7      7000.000000\n",
       "8      8000.000000\n",
       "9      9000.000000\n",
       "10     5312.467742\n",
       "11     1089.000000\n",
       "12     5312.467742\n",
       "13     1234.000000\n",
       "14     3000.000000\n",
       "15     3000.000000\n",
       "16     3030.000000\n",
       "17     5000.000000\n",
       "18     5312.467742\n",
       "19     5312.467742\n",
       "20     3045.000000\n",
       "21     3184.000000\n",
       "22     4824.000000\n",
       "23     5835.000000\n",
       "24     7084.000000\n",
       "25     8943.000000\n",
       "26     8345.000000\n",
       "27     9284.000000\n",
       "28     9876.000000\n",
       "29     2034.000000\n",
       "30     7654.000000\n",
       "31     2934.000000\n",
       "32     4034.000000\n",
       "33     5034.000000\n",
       "34     8202.000000\n",
       "35     9024.000000\n",
       "36     5312.467742\n",
       "37     5312.467742\n",
       "38     2300.000000\n",
       "39     3000.000000\n",
       "40     4345.000000\n",
       "41     5000.000000\n",
       "42     6000.000000\n",
       "43     7000.000000\n",
       "44     8000.000000\n",
       "45     9000.000000\n",
       "46     5312.467742\n",
       "47     1089.000000\n",
       "48     5312.467742\n",
       "49     1234.000000\n",
       "50     3000.000000\n",
       "51     3000.000000\n",
       "52     3030.000000\n",
       "53     5000.000000\n",
       "54     6544.000000\n",
       "55     7654.000000\n",
       "56     3045.000000\n",
       "57     3184.000000\n",
       "58     4824.000000\n",
       "59     5835.000000\n",
       "60     7084.000000\n",
       "61     8943.000000\n",
       "62     8345.000000\n",
       "63     9284.000000\n",
       "64     6543.000000\n",
       "65     2034.000000\n",
       "66     5312.467742\n",
       "67     2934.000000\n",
       "68     4034.000000\n",
       "69     5034.000000\n",
       "70     8202.000000\n",
       "71     9024.000000\n",
       "72     5312.467742\n",
       "73     5312.467742\n",
       "74     2300.000000\n",
       "75     3000.000000\n",
       "76     4000.000000\n",
       "77     5000.000000\n",
       "78     6000.000000\n",
       "79     7000.000000\n",
       "80     8000.000000\n",
       "81     9000.000000\n",
       "82     5312.467742\n",
       "83     1089.000000\n",
       "84     5312.467742\n",
       "85     1234.000000\n",
       "86     3000.000000\n",
       "87     3000.000000\n",
       "88     3030.000000\n",
       "89     5000.000000\n",
       "90     5312.467742\n",
       "91     5312.467742\n",
       "92     3045.000000\n",
       "93     3184.000000\n",
       "94     4824.000000\n",
       "95     5835.000000\n",
       "96     7084.000000\n",
       "97     8943.000000\n",
       "98     8345.000000\n",
       "99     9284.000000\n",
       "100    5312.467742\n",
       "101    2034.000000\n",
       "102    5312.467742\n",
       "103    2934.000000\n",
       "104    4034.000000\n",
       "105    5034.000000\n",
       "106    8202.000000\n",
       "107    9024.000000\n",
       "108    5312.467742\n",
       "109    5312.467742\n",
       "110    2300.000000\n",
       "111    3234.000000\n",
       "112    4324.000000\n",
       "113    5435.000000\n",
       "114    5555.000000\n",
       "115    8787.000000\n",
       "116    8787.000000\n",
       "117    9876.000000\n",
       "118    5312.467742\n",
       "119    1089.000000\n",
       "120    5312.467742\n",
       "121    1234.000000\n",
       "122    3234.000000\n",
       "123    3454.000000\n",
       "124    8787.000000\n",
       "125    5654.000000\n",
       "126    5009.000000\n",
       "127    5098.000000\n",
       "128    3045.000000\n",
       "129    3184.000000\n",
       "130    4824.000000\n",
       "131    5835.000000\n",
       "132    7084.000000\n",
       "133    8943.000000\n",
       "134    8345.000000\n",
       "135    9284.000000\n",
       "136    5312.467742\n",
       "137    2034.000000\n",
       "138    3033.000000\n",
       "139    2934.000000\n",
       "140    4034.000000\n",
       "141    5034.000000\n",
       "142    8202.000000\n",
       "143    9024.000000\n",
       "144    8787.000000\n",
       "145    4034.000000\n",
       "146    5034.000000\n",
       "147    8202.000000\n",
       "Name: Salary, dtype: float64"
      ]
     },
     "execution_count": 55,
     "metadata": {},
     "output_type": "execute_result"
    }
   ],
   "source": [
    "df['Salary']"
   ]
  },
  {
   "cell_type": "code",
   "execution_count": 56,
   "id": "c19a6cbf",
   "metadata": {},
   "outputs": [
    {
     "data": {
      "text/plain": [
       "14"
      ]
     },
     "execution_count": 56,
     "metadata": {},
     "output_type": "execute_result"
    }
   ],
   "source": [
    "df['Place'].isnull().sum()"
   ]
  },
  {
   "cell_type": "code",
   "execution_count": 59,
   "id": "45e66094",
   "metadata": {},
   "outputs": [],
   "source": [
    "df['Place'].fillna(df['Place'].mode()[0],inplace=True)"
   ]
  },
  {
   "cell_type": "code",
   "execution_count": 60,
   "id": "2c7116cd",
   "metadata": {},
   "outputs": [
    {
     "data": {
      "text/plain": [
       "0"
      ]
     },
     "execution_count": 60,
     "metadata": {},
     "output_type": "execute_result"
    }
   ],
   "source": [
    "df['Place'].isnull().sum()"
   ]
  },
  {
   "cell_type": "code",
   "execution_count": 61,
   "id": "2aa24b97",
   "metadata": {},
   "outputs": [
    {
     "data": {
      "text/plain": [
       "Mumbai        51\n",
       "Calcutta      33\n",
       "Chennai       14\n",
       "Delhi         14\n",
       "Cochin        13\n",
       "Noida          8\n",
       "Hyderabad      8\n",
       "Podicherry     3\n",
       "Pune           2\n",
       "Bhopal         1\n",
       "Nagpur         1\n",
       "Name: Place, dtype: int64"
      ]
     },
     "execution_count": 61,
     "metadata": {},
     "output_type": "execute_result"
    }
   ],
   "source": [
    "df['Place'].value_counts()"
   ]
  },
  {
   "cell_type": "code",
   "execution_count": 63,
   "id": "7bfc0c55",
   "metadata": {},
   "outputs": [
    {
     "data": {
      "text/plain": [
       "8"
      ]
     },
     "execution_count": 63,
     "metadata": {},
     "output_type": "execute_result"
    }
   ],
   "source": [
    "df.duplicated().sum()"
   ]
  },
  {
   "cell_type": "code",
   "execution_count": 64,
   "id": "063bcd6f",
   "metadata": {},
   "outputs": [
    {
     "data": {
      "text/html": [
       "<div>\n",
       "<style scoped>\n",
       "    .dataframe tbody tr th:only-of-type {\n",
       "        vertical-align: middle;\n",
       "    }\n",
       "\n",
       "    .dataframe tbody tr th {\n",
       "        vertical-align: top;\n",
       "    }\n",
       "\n",
       "    .dataframe thead th {\n",
       "        text-align: right;\n",
       "    }\n",
       "</style>\n",
       "<table border=\"1\" class=\"dataframe\">\n",
       "  <thead>\n",
       "    <tr style=\"text-align: right;\">\n",
       "      <th></th>\n",
       "      <th>Company</th>\n",
       "      <th>Age</th>\n",
       "      <th>Salary</th>\n",
       "      <th>Place</th>\n",
       "    </tr>\n",
       "  </thead>\n",
       "  <tbody>\n",
       "    <tr>\n",
       "      <th>84</th>\n",
       "      <td>CTS</td>\n",
       "      <td>43.000000</td>\n",
       "      <td>5312.467742</td>\n",
       "      <td>Mumbai</td>\n",
       "    </tr>\n",
       "    <tr>\n",
       "      <th>124</th>\n",
       "      <td>Infosys</td>\n",
       "      <td>22.000000</td>\n",
       "      <td>8787.000000</td>\n",
       "      <td>Calcutta</td>\n",
       "    </tr>\n",
       "    <tr>\n",
       "      <th>130</th>\n",
       "      <td>TCS</td>\n",
       "      <td>21.000000</td>\n",
       "      <td>4824.000000</td>\n",
       "      <td>Mumbai</td>\n",
       "    </tr>\n",
       "    <tr>\n",
       "      <th>131</th>\n",
       "      <td>Infosys</td>\n",
       "      <td>30.484615</td>\n",
       "      <td>5835.000000</td>\n",
       "      <td>Mumbai</td>\n",
       "    </tr>\n",
       "    <tr>\n",
       "      <th>144</th>\n",
       "      <td>Infosys</td>\n",
       "      <td>22.000000</td>\n",
       "      <td>8787.000000</td>\n",
       "      <td>Calcutta</td>\n",
       "    </tr>\n",
       "    <tr>\n",
       "      <th>145</th>\n",
       "      <td>Infosys</td>\n",
       "      <td>44.000000</td>\n",
       "      <td>4034.000000</td>\n",
       "      <td>Delhi</td>\n",
       "    </tr>\n",
       "    <tr>\n",
       "      <th>146</th>\n",
       "      <td>TCS</td>\n",
       "      <td>33.000000</td>\n",
       "      <td>5034.000000</td>\n",
       "      <td>Mumbai</td>\n",
       "    </tr>\n",
       "    <tr>\n",
       "      <th>147</th>\n",
       "      <td>Infosys</td>\n",
       "      <td>22.000000</td>\n",
       "      <td>8202.000000</td>\n",
       "      <td>Cochin</td>\n",
       "    </tr>\n",
       "  </tbody>\n",
       "</table>\n",
       "</div>"
      ],
      "text/plain": [
       "     Company        Age       Salary     Place\n",
       "84       CTS  43.000000  5312.467742    Mumbai\n",
       "124  Infosys  22.000000  8787.000000  Calcutta\n",
       "130      TCS  21.000000  4824.000000    Mumbai\n",
       "131  Infosys  30.484615  5835.000000    Mumbai\n",
       "144  Infosys  22.000000  8787.000000  Calcutta\n",
       "145  Infosys  44.000000  4034.000000     Delhi\n",
       "146      TCS  33.000000  5034.000000    Mumbai\n",
       "147  Infosys  22.000000  8202.000000    Cochin"
      ]
     },
     "execution_count": 64,
     "metadata": {},
     "output_type": "execute_result"
    }
   ],
   "source": [
    "df[df.duplicated()]"
   ]
  },
  {
   "cell_type": "code",
   "execution_count": 72,
   "id": "8e377cf7",
   "metadata": {},
   "outputs": [],
   "source": [
    "df=df.drop_duplicates()"
   ]
  },
  {
   "cell_type": "code",
   "execution_count": 73,
   "id": "0df19609",
   "metadata": {},
   "outputs": [
    {
     "name": "stdout",
     "output_type": "stream",
     "text": [
      "<class 'pandas.core.frame.DataFrame'>\n",
      "Int64Index: 140 entries, 0 to 143\n",
      "Data columns (total 4 columns):\n",
      " #   Column   Non-Null Count  Dtype  \n",
      "---  ------   --------------  -----  \n",
      " 0   Company  140 non-null    object \n",
      " 1   Age      140 non-null    float64\n",
      " 2   Salary   140 non-null    float64\n",
      " 3   Place    140 non-null    object \n",
      "dtypes: float64(2), object(2)\n",
      "memory usage: 5.5+ KB\n"
     ]
    }
   ],
   "source": [
    "df.info()"
   ]
  },
  {
   "cell_type": "code",
   "execution_count": 79,
   "id": "9ae7cb15",
   "metadata": {},
   "outputs": [
    {
     "data": {
      "text/html": [
       "<div>\n",
       "<style scoped>\n",
       "    .dataframe tbody tr th:only-of-type {\n",
       "        vertical-align: middle;\n",
       "    }\n",
       "\n",
       "    .dataframe tbody tr th {\n",
       "        vertical-align: top;\n",
       "    }\n",
       "\n",
       "    .dataframe thead th {\n",
       "        text-align: right;\n",
       "    }\n",
       "</style>\n",
       "<table border=\"1\" class=\"dataframe\">\n",
       "  <thead>\n",
       "    <tr style=\"text-align: right;\">\n",
       "      <th></th>\n",
       "      <th>Company</th>\n",
       "      <th>Age</th>\n",
       "      <th>Salary</th>\n",
       "      <th>Place</th>\n",
       "    </tr>\n",
       "  </thead>\n",
       "  <tbody>\n",
       "    <tr>\n",
       "      <th>95</th>\n",
       "      <td>Infosys</td>\n",
       "      <td>30.484615</td>\n",
       "      <td>5835.0</td>\n",
       "      <td>Chennai</td>\n",
       "    </tr>\n",
       "    <tr>\n",
       "      <th>113</th>\n",
       "      <td>Infosys</td>\n",
       "      <td>30.484615</td>\n",
       "      <td>5435.0</td>\n",
       "      <td>Chennai</td>\n",
       "    </tr>\n",
       "  </tbody>\n",
       "</table>\n",
       "</div>"
      ],
      "text/plain": [
       "     Company        Age  Salary    Place\n",
       "95   Infosys  30.484615  5835.0  Chennai\n",
       "113  Infosys  30.484615  5435.0  Chennai"
      ]
     },
     "execution_count": 79,
     "metadata": {},
     "output_type": "execute_result"
    }
   ],
   "source": [
    "df[(df['Company']=='Infosys') & (df['Place']=='Chennai') & (df['Age']>30) & (df['Salary']>5000)]"
   ]
  },
  {
   "cell_type": "code",
   "execution_count": 80,
   "id": "f187eb46",
   "metadata": {},
   "outputs": [
    {
     "data": {
      "text/html": [
       "<div>\n",
       "<style scoped>\n",
       "    .dataframe tbody tr th:only-of-type {\n",
       "        vertical-align: middle;\n",
       "    }\n",
       "\n",
       "    .dataframe tbody tr th {\n",
       "        vertical-align: top;\n",
       "    }\n",
       "\n",
       "    .dataframe thead th {\n",
       "        text-align: right;\n",
       "    }\n",
       "</style>\n",
       "<table border=\"1\" class=\"dataframe\">\n",
       "  <thead>\n",
       "    <tr style=\"text-align: right;\">\n",
       "      <th></th>\n",
       "      <th>Company</th>\n",
       "      <th>Age</th>\n",
       "      <th>Salary</th>\n",
       "      <th>Place</th>\n",
       "    </tr>\n",
       "  </thead>\n",
       "  <tbody>\n",
       "    <tr>\n",
       "      <th>6</th>\n",
       "      <td>TCS</td>\n",
       "      <td>30.484615</td>\n",
       "      <td>6000.000000</td>\n",
       "      <td>Chennai</td>\n",
       "    </tr>\n",
       "    <tr>\n",
       "      <th>12</th>\n",
       "      <td>CTS</td>\n",
       "      <td>45.000000</td>\n",
       "      <td>5312.467742</td>\n",
       "      <td>Chennai</td>\n",
       "    </tr>\n",
       "    <tr>\n",
       "      <th>24</th>\n",
       "      <td>TCS</td>\n",
       "      <td>30.484615</td>\n",
       "      <td>7084.000000</td>\n",
       "      <td>Chennai</td>\n",
       "    </tr>\n",
       "    <tr>\n",
       "      <th>30</th>\n",
       "      <td>CTS</td>\n",
       "      <td>46.000000</td>\n",
       "      <td>7654.000000</td>\n",
       "      <td>Chennai</td>\n",
       "    </tr>\n",
       "  </tbody>\n",
       "</table>\n",
       "</div>"
      ],
      "text/plain": [
       "   Company        Age       Salary    Place\n",
       "6      TCS  30.484615  6000.000000  Chennai\n",
       "12     CTS  45.000000  5312.467742  Chennai\n",
       "24     TCS  30.484615  7084.000000  Chennai\n",
       "30     CTS  46.000000  7654.000000  Chennai"
      ]
     },
     "execution_count": 80,
     "metadata": {},
     "output_type": "execute_result"
    }
   ],
   "source": [
    "df[(df['Company']!='Infosys') & (df['Place']=='Chennai') & (df['Age']>30) & (df['Salary']>5000)]"
   ]
  },
  {
   "cell_type": "code",
   "execution_count": 84,
   "id": "a76aaaa2",
   "metadata": {},
   "outputs": [
    {
     "data": {
      "text/html": [
       "<div>\n",
       "<style scoped>\n",
       "    .dataframe tbody tr th:only-of-type {\n",
       "        vertical-align: middle;\n",
       "    }\n",
       "\n",
       "    .dataframe tbody tr th {\n",
       "        vertical-align: top;\n",
       "    }\n",
       "\n",
       "    .dataframe thead th {\n",
       "        text-align: right;\n",
       "    }\n",
       "</style>\n",
       "<table border=\"1\" class=\"dataframe\">\n",
       "  <thead>\n",
       "    <tr style=\"text-align: right;\">\n",
       "      <th></th>\n",
       "      <th>Company</th>\n",
       "      <th>Age</th>\n",
       "      <th>Salary</th>\n",
       "      <th>Place</th>\n",
       "    </tr>\n",
       "  </thead>\n",
       "  <tbody>\n",
       "    <tr>\n",
       "      <th>19</th>\n",
       "      <td>Infosys</td>\n",
       "      <td>32.000000</td>\n",
       "      <td>5312.467742</td>\n",
       "      <td>Mumbai</td>\n",
       "    </tr>\n",
       "    <tr>\n",
       "      <th>23</th>\n",
       "      <td>Infosys</td>\n",
       "      <td>30.484615</td>\n",
       "      <td>5835.000000</td>\n",
       "      <td>Cochin</td>\n",
       "    </tr>\n",
       "    <tr>\n",
       "      <th>55</th>\n",
       "      <td>Infosys</td>\n",
       "      <td>32.000000</td>\n",
       "      <td>7654.000000</td>\n",
       "      <td>Cochin</td>\n",
       "    </tr>\n",
       "    <tr>\n",
       "      <th>59</th>\n",
       "      <td>Infosys</td>\n",
       "      <td>30.484615</td>\n",
       "      <td>5835.000000</td>\n",
       "      <td>Mumbai</td>\n",
       "    </tr>\n",
       "    <tr>\n",
       "      <th>70</th>\n",
       "      <td>Infosys</td>\n",
       "      <td>21.000000</td>\n",
       "      <td>8202.000000</td>\n",
       "      <td>Chennai</td>\n",
       "    </tr>\n",
       "    <tr>\n",
       "      <th>73</th>\n",
       "      <td>Infosys</td>\n",
       "      <td>34.000000</td>\n",
       "      <td>5312.467742</td>\n",
       "      <td>Delhi</td>\n",
       "    </tr>\n",
       "    <tr>\n",
       "      <th>91</th>\n",
       "      <td>Infosys</td>\n",
       "      <td>34.000000</td>\n",
       "      <td>5312.467742</td>\n",
       "      <td>Calcutta</td>\n",
       "    </tr>\n",
       "    <tr>\n",
       "      <th>95</th>\n",
       "      <td>Infosys</td>\n",
       "      <td>30.484615</td>\n",
       "      <td>5835.000000</td>\n",
       "      <td>Chennai</td>\n",
       "    </tr>\n",
       "    <tr>\n",
       "      <th>113</th>\n",
       "      <td>Infosys</td>\n",
       "      <td>30.484615</td>\n",
       "      <td>5435.000000</td>\n",
       "      <td>Chennai</td>\n",
       "    </tr>\n",
       "  </tbody>\n",
       "</table>\n",
       "</div>"
      ],
      "text/plain": [
       "     Company        Age       Salary     Place\n",
       "19   Infosys  32.000000  5312.467742    Mumbai\n",
       "23   Infosys  30.484615  5835.000000    Cochin\n",
       "55   Infosys  32.000000  7654.000000    Cochin\n",
       "59   Infosys  30.484615  5835.000000    Mumbai\n",
       "70   Infosys  21.000000  8202.000000   Chennai\n",
       "73   Infosys  34.000000  5312.467742     Delhi\n",
       "91   Infosys  34.000000  5312.467742  Calcutta\n",
       "95   Infosys  30.484615  5835.000000   Chennai\n",
       "113  Infosys  30.484615  5435.000000   Chennai"
      ]
     },
     "execution_count": 84,
     "metadata": {},
     "output_type": "execute_result"
    }
   ],
   "source": [
    "df[(df['Company']=='Infosys') & ((df['Place']=='Chennai') | (df['Age']>30)) & (df['Salary']>5000)]"
   ]
  },
  {
   "cell_type": "code",
   "execution_count": null,
   "id": "187b85ff",
   "metadata": {},
   "outputs": [],
   "source": []
  }
 ],
 "metadata": {
  "kernelspec": {
   "display_name": "Python 3 (ipykernel)",
   "language": "python",
   "name": "python3"
  },
  "language_info": {
   "codemirror_mode": {
    "name": "ipython",
    "version": 3
   },
   "file_extension": ".py",
   "mimetype": "text/x-python",
   "name": "python",
   "nbconvert_exporter": "python",
   "pygments_lexer": "ipython3",
   "version": "3.8.10"
  }
 },
 "nbformat": 4,
 "nbformat_minor": 5
}
