{
 "cells": [
  {
   "cell_type": "code",
   "execution_count": 1,
   "id": "3d989186",
   "metadata": {},
   "outputs": [],
   "source": [
    "t1=()"
   ]
  },
  {
   "cell_type": "code",
   "execution_count": 2,
   "id": "70506c43",
   "metadata": {},
   "outputs": [
    {
     "data": {
      "text/plain": [
       "tuple"
      ]
     },
     "execution_count": 2,
     "metadata": {},
     "output_type": "execute_result"
    }
   ],
   "source": [
    "type(t1)"
   ]
  },
  {
   "cell_type": "code",
   "execution_count": 3,
   "id": "d84bf5d5",
   "metadata": {},
   "outputs": [],
   "source": [
    "t2=tuple()"
   ]
  },
  {
   "cell_type": "code",
   "execution_count": 4,
   "id": "fa52e095",
   "metadata": {},
   "outputs": [
    {
     "data": {
      "text/plain": [
       "tuple"
      ]
     },
     "execution_count": 4,
     "metadata": {},
     "output_type": "execute_result"
    }
   ],
   "source": [
    "type(t2)"
   ]
  },
  {
   "cell_type": "code",
   "execution_count": 5,
   "id": "850194ae",
   "metadata": {},
   "outputs": [],
   "source": [
    "nums=(1,2,3,4,5,6,7,8,9,10)"
   ]
  },
  {
   "cell_type": "code",
   "execution_count": 6,
   "id": "418769f9",
   "metadata": {},
   "outputs": [
    {
     "data": {
      "text/plain": [
       "tuple"
      ]
     },
     "execution_count": 6,
     "metadata": {},
     "output_type": "execute_result"
    }
   ],
   "source": [
    "type(nums)"
   ]
  },
  {
   "cell_type": "code",
   "execution_count": 7,
   "id": "b5bd0cf5",
   "metadata": {},
   "outputs": [
    {
     "data": {
      "text/plain": [
       "10"
      ]
     },
     "execution_count": 7,
     "metadata": {},
     "output_type": "execute_result"
    }
   ],
   "source": [
    "len(nums)"
   ]
  },
  {
   "cell_type": "code",
   "execution_count": 8,
   "id": "d566db8c",
   "metadata": {},
   "outputs": [
    {
     "data": {
      "text/plain": [
       "1"
      ]
     },
     "execution_count": 8,
     "metadata": {},
     "output_type": "execute_result"
    }
   ],
   "source": [
    "min(nums)"
   ]
  },
  {
   "cell_type": "code",
   "execution_count": 9,
   "id": "1ffc308d",
   "metadata": {},
   "outputs": [
    {
     "data": {
      "text/plain": [
       "10"
      ]
     },
     "execution_count": 9,
     "metadata": {},
     "output_type": "execute_result"
    }
   ],
   "source": [
    "max(nums)"
   ]
  },
  {
   "cell_type": "code",
   "execution_count": 10,
   "id": "c4522668",
   "metadata": {},
   "outputs": [
    {
     "data": {
      "text/plain": [
       "55"
      ]
     },
     "execution_count": 10,
     "metadata": {},
     "output_type": "execute_result"
    }
   ],
   "source": [
    "sum(nums)"
   ]
  },
  {
   "cell_type": "code",
   "execution_count": 11,
   "id": "f59627ba",
   "metadata": {},
   "outputs": [
    {
     "name": "stdout",
     "output_type": "stream",
     "text": [
      "['__add__', '__class__', '__contains__', '__delattr__', '__dir__', '__doc__', '__eq__', '__format__', '__ge__', '__getattribute__', '__getitem__', '__getnewargs__', '__gt__', '__hash__', '__init__', '__init_subclass__', '__iter__', '__le__', '__len__', '__lt__', '__mul__', '__ne__', '__new__', '__reduce__', '__reduce_ex__', '__repr__', '__rmul__', '__setattr__', '__sizeof__', '__str__', '__subclasshook__', 'count', 'index']\n"
     ]
    }
   ],
   "source": [
    "print(dir(nums))"
   ]
  },
  {
   "cell_type": "code",
   "execution_count": 12,
   "id": "4b01ecd1",
   "metadata": {},
   "outputs": [
    {
     "data": {
      "text/plain": [
       "1"
      ]
     },
     "execution_count": 12,
     "metadata": {},
     "output_type": "execute_result"
    }
   ],
   "source": [
    "nums.count(6)"
   ]
  },
  {
   "cell_type": "code",
   "execution_count": 13,
   "id": "57afd7db",
   "metadata": {},
   "outputs": [
    {
     "data": {
      "text/plain": [
       "(1, 2, 3, 4, 5, 6, 7, 8, 9, 10)"
      ]
     },
     "execution_count": 13,
     "metadata": {},
     "output_type": "execute_result"
    }
   ],
   "source": [
    "nums"
   ]
  },
  {
   "cell_type": "code",
   "execution_count": 14,
   "id": "6ba23c02",
   "metadata": {},
   "outputs": [
    {
     "data": {
      "text/plain": [
       "6"
      ]
     },
     "execution_count": 14,
     "metadata": {},
     "output_type": "execute_result"
    }
   ],
   "source": [
    "nums.index(7)"
   ]
  },
  {
   "cell_type": "code",
   "execution_count": 15,
   "id": "765e4ffd",
   "metadata": {},
   "outputs": [],
   "source": [
    "tpl=(1,1,2,3,4,5,2,3,4,2,1,23,6,8,8,4,3,2,1)"
   ]
  },
  {
   "cell_type": "code",
   "execution_count": 16,
   "id": "d521ab4d",
   "metadata": {},
   "outputs": [
    {
     "data": {
      "text/plain": [
       "tuple"
      ]
     },
     "execution_count": 16,
     "metadata": {},
     "output_type": "execute_result"
    }
   ],
   "source": [
    "type(tpl)"
   ]
  },
  {
   "cell_type": "code",
   "execution_count": 17,
   "id": "e62976cb",
   "metadata": {},
   "outputs": [],
   "source": [
    "tpl=[1,1,2,3,4,5,2,3,4,2,1,23,6,8,8,4,3,2,1]"
   ]
  },
  {
   "cell_type": "code",
   "execution_count": 18,
   "id": "2e4f3d3f",
   "metadata": {},
   "outputs": [
    {
     "data": {
      "text/plain": [
       "list"
      ]
     },
     "execution_count": 18,
     "metadata": {},
     "output_type": "execute_result"
    }
   ],
   "source": [
    "type(tpl)"
   ]
  },
  {
   "cell_type": "code",
   "execution_count": 19,
   "id": "d0a5f9c0",
   "metadata": {
    "collapsed": true
   },
   "outputs": [
    {
     "ename": "SyntaxError",
     "evalue": "invalid syntax (990825113.py, line 1)",
     "output_type": "error",
     "traceback": [
      "\u001b[1;36m  Input \u001b[1;32mIn [19]\u001b[1;36m\u001b[0m\n\u001b[1;33m    LIST                                                            TUPLE\u001b[0m\n\u001b[1;37m                                                                    ^\u001b[0m\n\u001b[1;31mSyntaxError\u001b[0m\u001b[1;31m:\u001b[0m invalid syntax\n"
     ]
    }
   ],
   "source": [
    "LIST                                                            TUPLE\n",
    "Mutable Object                                                 Immutable\n",
    "[]                                                             ()\n",
    "Takes more memory                                              Less memory\n",
    "More time to process                                           Very less time to process the list of elements"
   ]
  },
  {
   "cell_type": "code",
   "execution_count": 20,
   "id": "9c858a48",
   "metadata": {},
   "outputs": [
    {
     "name": "stdout",
     "output_type": "stream",
     "text": [
      "LIST MEMORY : 96\n",
      "TUPLE MEMORY : 80\n"
     ]
    }
   ],
   "source": [
    "import sys\n",
    "\n",
    "list1=[1,2,3,4,5]\n",
    "tuple1=(1,2,3,4,5)\n",
    "\n",
    "print(\"LIST MEMORY :\",sys.getsizeof(list1))\n",
    "print(\"TUPLE MEMORY :\",sys.getsizeof(tuple1))"
   ]
  },
  {
   "cell_type": "code",
   "execution_count": 21,
   "id": "57660913",
   "metadata": {},
   "outputs": [
    {
     "name": "stdout",
     "output_type": "stream",
     "text": [
      "LIST TAKES : 88.91879999998764\n",
      "TUPLE TAKES : 9.022500000014588\n"
     ]
    }
   ],
   "source": [
    "import timeit\n",
    "\n",
    "print(\"LIST TAKES :\", timeit.timeit(stmt=\"[1,2,3,4,5,6,7,8,9,10]\",number=1000000)*1000)\n",
    "print(\"TUPLE TAKES :\", timeit.timeit(stmt=\"(1,2,3,4,5,6,7,8,9,10)\",number=1000000)*1000)"
   ]
  },
  {
   "cell_type": "code",
   "execution_count": 22,
   "id": "701cad9a",
   "metadata": {},
   "outputs": [],
   "source": [
    "cust=(10,11,12,13,14)"
   ]
  },
  {
   "cell_type": "code",
   "execution_count": 36,
   "id": "be3907ee",
   "metadata": {},
   "outputs": [],
   "source": [
    "cust1=list(cust)"
   ]
  },
  {
   "cell_type": "code",
   "execution_count": 37,
   "id": "87e9528d",
   "metadata": {},
   "outputs": [],
   "source": [
    "cust1.extend([15,16,27])"
   ]
  },
  {
   "cell_type": "code",
   "execution_count": 39,
   "id": "3f54a164",
   "metadata": {},
   "outputs": [],
   "source": [
    "cust=tuple(cust1)"
   ]
  },
  {
   "cell_type": "code",
   "execution_count": 40,
   "id": "c466ce1c",
   "metadata": {},
   "outputs": [
    {
     "data": {
      "text/plain": [
       "(10, 11, 12, 13, 14, 15, 16, 27)"
      ]
     },
     "execution_count": 40,
     "metadata": {},
     "output_type": "execute_result"
    }
   ],
   "source": [
    "cust"
   ]
  },
  {
   "cell_type": "code",
   "execution_count": 41,
   "id": "9a2d2dd4",
   "metadata": {},
   "outputs": [
    {
     "data": {
      "text/plain": [
       "[10, 11, 12, 13, 14, 15, 16, 27]"
      ]
     },
     "execution_count": 41,
     "metadata": {},
     "output_type": "execute_result"
    }
   ],
   "source": [
    "cust1"
   ]
  },
  {
   "cell_type": "code",
   "execution_count": 42,
   "id": "ef961a27",
   "metadata": {},
   "outputs": [],
   "source": [
    "cust1.clear()"
   ]
  },
  {
   "cell_type": "code",
   "execution_count": 44,
   "id": "80fd76d5",
   "metadata": {},
   "outputs": [],
   "source": [
    "lst=[10]"
   ]
  },
  {
   "cell_type": "code",
   "execution_count": 45,
   "id": "f8ad042c",
   "metadata": {},
   "outputs": [
    {
     "data": {
      "text/plain": [
       "list"
      ]
     },
     "execution_count": 45,
     "metadata": {},
     "output_type": "execute_result"
    }
   ],
   "source": [
    "type(lst)"
   ]
  },
  {
   "cell_type": "code",
   "execution_count": 46,
   "id": "c444109c",
   "metadata": {},
   "outputs": [],
   "source": [
    "tpl=(10)"
   ]
  },
  {
   "cell_type": "code",
   "execution_count": 47,
   "id": "69479ef8",
   "metadata": {},
   "outputs": [
    {
     "data": {
      "text/plain": [
       "int"
      ]
     },
     "execution_count": 47,
     "metadata": {},
     "output_type": "execute_result"
    }
   ],
   "source": [
    "type(tpl)"
   ]
  },
  {
   "cell_type": "code",
   "execution_count": 48,
   "id": "5531054d",
   "metadata": {},
   "outputs": [],
   "source": [
    "tpl1=(\"Chennai\")"
   ]
  },
  {
   "cell_type": "code",
   "execution_count": 49,
   "id": "44748673",
   "metadata": {},
   "outputs": [
    {
     "data": {
      "text/plain": [
       "str"
      ]
     },
     "execution_count": 49,
     "metadata": {},
     "output_type": "execute_result"
    }
   ],
   "source": [
    "type(tpl1)"
   ]
  },
  {
   "cell_type": "code",
   "execution_count": 52,
   "id": "c146a45b",
   "metadata": {},
   "outputs": [],
   "source": [
    "t1=(\"Chennai\",)"
   ]
  },
  {
   "cell_type": "code",
   "execution_count": 53,
   "id": "9630d073",
   "metadata": {},
   "outputs": [
    {
     "data": {
      "text/plain": [
       "tuple"
      ]
     },
     "execution_count": 53,
     "metadata": {},
     "output_type": "execute_result"
    }
   ],
   "source": [
    "type(t1)"
   ]
  },
  {
   "cell_type": "code",
   "execution_count": 43,
   "id": "9675fcc0",
   "metadata": {},
   "outputs": [],
   "source": [
    "##################### DICTIONARY ##########################"
   ]
  },
  {
   "cell_type": "code",
   "execution_count": null,
   "id": "4bd551b0",
   "metadata": {},
   "outputs": [],
   "source": [
    "unordered array\n",
    "key->value pairs of elements\n",
    "Cannot keep duplicate key"
   ]
  },
  {
   "cell_type": "code",
   "execution_count": null,
   "id": "2a0334d2",
   "metadata": {},
   "outputs": [],
   "source": [
    "[]\n",
    "()\n",
    "{}\n"
   ]
  },
  {
   "cell_type": "code",
   "execution_count": 54,
   "id": "72f56181",
   "metadata": {},
   "outputs": [],
   "source": [
    "dict1={}"
   ]
  },
  {
   "cell_type": "code",
   "execution_count": 55,
   "id": "948a3152",
   "metadata": {},
   "outputs": [
    {
     "data": {
      "text/plain": [
       "dict"
      ]
     },
     "execution_count": 55,
     "metadata": {},
     "output_type": "execute_result"
    }
   ],
   "source": [
    "type(dict1)"
   ]
  },
  {
   "cell_type": "code",
   "execution_count": 56,
   "id": "d9f90f81",
   "metadata": {},
   "outputs": [],
   "source": [
    "dict2=dict()"
   ]
  },
  {
   "cell_type": "code",
   "execution_count": 57,
   "id": "66c1eaf9",
   "metadata": {},
   "outputs": [
    {
     "data": {
      "text/plain": [
       "dict"
      ]
     },
     "execution_count": 57,
     "metadata": {},
     "output_type": "execute_result"
    }
   ],
   "source": [
    "type(dict2)"
   ]
  },
  {
   "cell_type": "code",
   "execution_count": 58,
   "id": "9f8d1e23",
   "metadata": {},
   "outputs": [],
   "source": [
    "info={'name':'Raghul Ramesh','city':'Chennai','tech':'Python'}"
   ]
  },
  {
   "cell_type": "code",
   "execution_count": 59,
   "id": "bdc5e64d",
   "metadata": {},
   "outputs": [
    {
     "data": {
      "text/plain": [
       "dict"
      ]
     },
     "execution_count": 59,
     "metadata": {},
     "output_type": "execute_result"
    }
   ],
   "source": [
    "type(info)"
   ]
  },
  {
   "cell_type": "code",
   "execution_count": 60,
   "id": "84ad6e94",
   "metadata": {},
   "outputs": [
    {
     "data": {
      "text/plain": [
       "'Python'"
      ]
     },
     "execution_count": 60,
     "metadata": {},
     "output_type": "execute_result"
    }
   ],
   "source": [
    "info[\"tech\"]"
   ]
  },
  {
   "cell_type": "code",
   "execution_count": 61,
   "id": "f1d15bea",
   "metadata": {},
   "outputs": [],
   "source": [
    "info[\"age\"]=38"
   ]
  },
  {
   "cell_type": "code",
   "execution_count": 62,
   "id": "8147f89a",
   "metadata": {},
   "outputs": [
    {
     "data": {
      "text/plain": [
       "{'name': 'Raghul Ramesh', 'city': 'Chennai', 'tech': 'Python', 'age': 38}"
      ]
     },
     "execution_count": 62,
     "metadata": {},
     "output_type": "execute_result"
    }
   ],
   "source": [
    "info"
   ]
  },
  {
   "cell_type": "code",
   "execution_count": 64,
   "id": "10ab6eb8",
   "metadata": {},
   "outputs": [],
   "source": [
    "info[\"city\"]=\"Bangalore\""
   ]
  },
  {
   "cell_type": "code",
   "execution_count": 65,
   "id": "cd9f7983",
   "metadata": {},
   "outputs": [
    {
     "data": {
      "text/plain": [
       "{'name': 'Raghul Ramesh', 'city': 'Bangalore', 'tech': 'Python', 'age': 38}"
      ]
     },
     "execution_count": 65,
     "metadata": {},
     "output_type": "execute_result"
    }
   ],
   "source": [
    "info"
   ]
  },
  {
   "cell_type": "code",
   "execution_count": 66,
   "id": "6c66a67a",
   "metadata": {},
   "outputs": [
    {
     "data": {
      "text/plain": [
       "'Bangalore'"
      ]
     },
     "execution_count": 66,
     "metadata": {},
     "output_type": "execute_result"
    }
   ],
   "source": [
    "info[\"city\"]"
   ]
  },
  {
   "cell_type": "code",
   "execution_count": 67,
   "id": "f15cee9a",
   "metadata": {},
   "outputs": [],
   "source": [
    "info['manager']='Levin Lenus'"
   ]
  },
  {
   "cell_type": "code",
   "execution_count": 68,
   "id": "5541148d",
   "metadata": {},
   "outputs": [
    {
     "data": {
      "text/plain": [
       "{'name': 'Raghul Ramesh',\n",
       " 'city': 'Bangalore',\n",
       " 'tech': 'Python',\n",
       " 'age': 38,\n",
       " 'manager': 'Levin Lenus'}"
      ]
     },
     "execution_count": 68,
     "metadata": {},
     "output_type": "execute_result"
    }
   ],
   "source": [
    "info"
   ]
  },
  {
   "cell_type": "code",
   "execution_count": 69,
   "id": "5688df39",
   "metadata": {},
   "outputs": [],
   "source": [
    "info.update({'city':'Chennai','Project':'Python Development','tech':['Python','Spark','AIML'],'is_manager':False})"
   ]
  },
  {
   "cell_type": "code",
   "execution_count": 70,
   "id": "7c59a676",
   "metadata": {},
   "outputs": [
    {
     "data": {
      "text/plain": [
       "{'name': 'Raghul Ramesh',\n",
       " 'city': 'Chennai',\n",
       " 'tech': ['Python', 'Spark', 'AIML'],\n",
       " 'age': 38,\n",
       " 'manager': 'Levin Lenus',\n",
       " 'Project': 'Python Development',\n",
       " 'is_manager': False}"
      ]
     },
     "execution_count": 70,
     "metadata": {},
     "output_type": "execute_result"
    }
   ],
   "source": [
    "info"
   ]
  },
  {
   "cell_type": "code",
   "execution_count": 71,
   "id": "d50bde10",
   "metadata": {},
   "outputs": [
    {
     "data": {
      "text/plain": [
       "'Raghul Ramesh'"
      ]
     },
     "execution_count": 71,
     "metadata": {},
     "output_type": "execute_result"
    }
   ],
   "source": [
    "info['name']"
   ]
  },
  {
   "cell_type": "code",
   "execution_count": 72,
   "id": "241e4149",
   "metadata": {},
   "outputs": [
    {
     "ename": "KeyError",
     "evalue": "'salary'",
     "output_type": "error",
     "traceback": [
      "\u001b[1;31m---------------------------------------------------------------------------\u001b[0m",
      "\u001b[1;31mKeyError\u001b[0m                                  Traceback (most recent call last)",
      "Input \u001b[1;32mIn [72]\u001b[0m, in \u001b[0;36m<cell line: 1>\u001b[1;34m()\u001b[0m\n\u001b[1;32m----> 1\u001b[0m \u001b[43minfo\u001b[49m\u001b[43m[\u001b[49m\u001b[38;5;124;43m'\u001b[39;49m\u001b[38;5;124;43msalary\u001b[39;49m\u001b[38;5;124;43m'\u001b[39;49m\u001b[43m]\u001b[49m\n",
      "\u001b[1;31mKeyError\u001b[0m: 'salary'"
     ]
    }
   ],
   "source": [
    "info['salary']"
   ]
  },
  {
   "cell_type": "code",
   "execution_count": 73,
   "id": "55152700",
   "metadata": {},
   "outputs": [],
   "source": [
    "#get , setdefault"
   ]
  },
  {
   "cell_type": "code",
   "execution_count": 74,
   "id": "4d1b3d5e",
   "metadata": {},
   "outputs": [
    {
     "data": {
      "text/plain": [
       "'Chennai'"
      ]
     },
     "execution_count": 74,
     "metadata": {},
     "output_type": "execute_result"
    }
   ],
   "source": [
    "info.get('city')"
   ]
  },
  {
   "cell_type": "code",
   "execution_count": 77,
   "id": "bd334058",
   "metadata": {},
   "outputs": [],
   "source": [
    "info.get('salary')"
   ]
  },
  {
   "cell_type": "code",
   "execution_count": 78,
   "id": "ce9a3c07",
   "metadata": {},
   "outputs": [
    {
     "data": {
      "text/plain": [
       "'Not Exists'"
      ]
     },
     "execution_count": 78,
     "metadata": {},
     "output_type": "execute_result"
    }
   ],
   "source": [
    "info.get('salary','Not Exists')"
   ]
  },
  {
   "cell_type": "code",
   "execution_count": 79,
   "id": "3d639537",
   "metadata": {},
   "outputs": [
    {
     "data": {
      "text/plain": [
       "['Python', 'Spark', 'AIML']"
      ]
     },
     "execution_count": 79,
     "metadata": {},
     "output_type": "execute_result"
    }
   ],
   "source": [
    "info.get('tech','Not Exists')"
   ]
  },
  {
   "cell_type": "code",
   "execution_count": 80,
   "id": "0f5bce91",
   "metadata": {},
   "outputs": [
    {
     "data": {
      "text/plain": [
       "{'name': 'Raghul Ramesh',\n",
       " 'city': 'Chennai',\n",
       " 'tech': ['Python', 'Spark', 'AIML'],\n",
       " 'age': 38,\n",
       " 'manager': 'Levin Lenus',\n",
       " 'Project': 'Python Development',\n",
       " 'is_manager': False}"
      ]
     },
     "execution_count": 80,
     "metadata": {},
     "output_type": "execute_result"
    }
   ],
   "source": [
    "info"
   ]
  },
  {
   "cell_type": "code",
   "execution_count": 81,
   "id": "e0e6472a",
   "metadata": {},
   "outputs": [
    {
     "data": {
      "text/plain": [
       "'Raghul Ramesh'"
      ]
     },
     "execution_count": 81,
     "metadata": {},
     "output_type": "execute_result"
    }
   ],
   "source": [
    "info.setdefault('name','Not Exists')"
   ]
  },
  {
   "cell_type": "code",
   "execution_count": 82,
   "id": "c7024a8c",
   "metadata": {},
   "outputs": [
    {
     "data": {
      "text/plain": [
       "{'name': 'Raghul Ramesh',\n",
       " 'city': 'Chennai',\n",
       " 'tech': ['Python', 'Spark', 'AIML'],\n",
       " 'age': 38,\n",
       " 'manager': 'Levin Lenus',\n",
       " 'Project': 'Python Development',\n",
       " 'is_manager': False}"
      ]
     },
     "execution_count": 82,
     "metadata": {},
     "output_type": "execute_result"
    }
   ],
   "source": [
    "info"
   ]
  },
  {
   "cell_type": "code",
   "execution_count": 83,
   "id": "fd510054",
   "metadata": {},
   "outputs": [
    {
     "data": {
      "text/plain": [
       "'Not Exists'"
      ]
     },
     "execution_count": 83,
     "metadata": {},
     "output_type": "execute_result"
    }
   ],
   "source": [
    "info.setdefault('salary','Not Exists')"
   ]
  },
  {
   "cell_type": "code",
   "execution_count": 84,
   "id": "3f091ac8",
   "metadata": {},
   "outputs": [
    {
     "data": {
      "text/plain": [
       "{'name': 'Raghul Ramesh',\n",
       " 'city': 'Chennai',\n",
       " 'tech': ['Python', 'Spark', 'AIML'],\n",
       " 'age': 38,\n",
       " 'manager': 'Levin Lenus',\n",
       " 'Project': 'Python Development',\n",
       " 'is_manager': False,\n",
       " 'salary': 'Not Exists'}"
      ]
     },
     "execution_count": 84,
     "metadata": {},
     "output_type": "execute_result"
    }
   ],
   "source": [
    "info"
   ]
  },
  {
   "cell_type": "code",
   "execution_count": 85,
   "id": "29d96c56",
   "metadata": {},
   "outputs": [
    {
     "data": {
      "text/plain": [
       "dict_keys(['name', 'city', 'tech', 'age', 'manager', 'Project', 'is_manager', 'salary'])"
      ]
     },
     "execution_count": 85,
     "metadata": {},
     "output_type": "execute_result"
    }
   ],
   "source": [
    "info.keys()"
   ]
  },
  {
   "cell_type": "code",
   "execution_count": 86,
   "id": "042c9486",
   "metadata": {},
   "outputs": [
    {
     "data": {
      "text/plain": [
       "dict_values(['Raghul Ramesh', 'Chennai', ['Python', 'Spark', 'AIML'], 38, 'Levin Lenus', 'Python Development', False, 'Not Exists'])"
      ]
     },
     "execution_count": 86,
     "metadata": {},
     "output_type": "execute_result"
    }
   ],
   "source": [
    "info.values()"
   ]
  },
  {
   "cell_type": "code",
   "execution_count": 87,
   "id": "03349a97",
   "metadata": {},
   "outputs": [
    {
     "data": {
      "text/plain": [
       "dict_items([('name', 'Raghul Ramesh'), ('city', 'Chennai'), ('tech', ['Python', 'Spark', 'AIML']), ('age', 38), ('manager', 'Levin Lenus'), ('Project', 'Python Development'), ('is_manager', False), ('salary', 'Not Exists')])"
      ]
     },
     "execution_count": 87,
     "metadata": {},
     "output_type": "execute_result"
    }
   ],
   "source": [
    "info.items()"
   ]
  },
  {
   "cell_type": "code",
   "execution_count": 90,
   "id": "ec644eba",
   "metadata": {},
   "outputs": [
    {
     "name": "stdout",
     "output_type": "stream",
     "text": [
      "name ====> Raghul Ramesh\n",
      "city ====> Chennai\n",
      "tech ====> ['Python', 'Spark', 'AIML']\n",
      "age ====> 38\n",
      "manager ====> Levin Lenus\n",
      "Project ====> Python Development\n",
      "is_manager ====> False\n",
      "salary ====> Not Exists\n"
     ]
    }
   ],
   "source": [
    "for k in info.keys():\n",
    "    print(k+\" ====> \"+ str(info[k]))"
   ]
  },
  {
   "cell_type": "code",
   "execution_count": 91,
   "id": "fde647b9",
   "metadata": {},
   "outputs": [
    {
     "name": "stdout",
     "output_type": "stream",
     "text": [
      "name ====> Raghul Ramesh\n",
      "city ====> Chennai\n",
      "tech ====> ['Python', 'Spark', 'AIML']\n",
      "age ====> 38\n",
      "manager ====> Levin Lenus\n",
      "Project ====> Python Development\n",
      "is_manager ====> False\n",
      "salary ====> Not Exists\n"
     ]
    }
   ],
   "source": [
    "for k,v in info.items():\n",
    "    print(k+\" ====> \"+ str(v))"
   ]
  },
  {
   "cell_type": "code",
   "execution_count": 92,
   "id": "d36ba98c",
   "metadata": {},
   "outputs": [
    {
     "name": "stdout",
     "output_type": "stream",
     "text": [
      "['__class__', '__contains__', '__delattr__', '__delitem__', '__dir__', '__doc__', '__eq__', '__format__', '__ge__', '__getattribute__', '__getitem__', '__gt__', '__hash__', '__init__', '__init_subclass__', '__iter__', '__le__', '__len__', '__lt__', '__ne__', '__new__', '__reduce__', '__reduce_ex__', '__repr__', '__reversed__', '__setattr__', '__setitem__', '__sizeof__', '__str__', '__subclasshook__', 'clear', 'copy', 'fromkeys', 'get', 'items', 'keys', 'pop', 'popitem', 'setdefault', 'update', 'values']\n"
     ]
    }
   ],
   "source": [
    "print(dir(info))"
   ]
  },
  {
   "cell_type": "code",
   "execution_count": 93,
   "id": "1b727504",
   "metadata": {},
   "outputs": [
    {
     "data": {
      "text/plain": [
       "{'name': 'Raghul Ramesh',\n",
       " 'city': 'Chennai',\n",
       " 'tech': ['Python', 'Spark', 'AIML'],\n",
       " 'age': 38,\n",
       " 'manager': 'Levin Lenus',\n",
       " 'Project': 'Python Development',\n",
       " 'is_manager': False,\n",
       " 'salary': 'Not Exists'}"
      ]
     },
     "execution_count": 93,
     "metadata": {},
     "output_type": "execute_result"
    }
   ],
   "source": [
    "info"
   ]
  },
  {
   "cell_type": "code",
   "execution_count": 94,
   "id": "d6f25a82",
   "metadata": {},
   "outputs": [
    {
     "data": {
      "text/plain": [
       "'Not Exists'"
      ]
     },
     "execution_count": 94,
     "metadata": {},
     "output_type": "execute_result"
    }
   ],
   "source": [
    "info.pop('salary')"
   ]
  },
  {
   "cell_type": "code",
   "execution_count": 95,
   "id": "57f03673",
   "metadata": {},
   "outputs": [
    {
     "data": {
      "text/plain": [
       "{'name': 'Raghul Ramesh',\n",
       " 'city': 'Chennai',\n",
       " 'tech': ['Python', 'Spark', 'AIML'],\n",
       " 'age': 38,\n",
       " 'manager': 'Levin Lenus',\n",
       " 'Project': 'Python Development',\n",
       " 'is_manager': False}"
      ]
     },
     "execution_count": 95,
     "metadata": {},
     "output_type": "execute_result"
    }
   ],
   "source": [
    "info"
   ]
  },
  {
   "cell_type": "code",
   "execution_count": 96,
   "id": "c11781a8",
   "metadata": {},
   "outputs": [
    {
     "data": {
      "text/plain": [
       "('is_manager', False)"
      ]
     },
     "execution_count": 96,
     "metadata": {},
     "output_type": "execute_result"
    }
   ],
   "source": [
    "info.popitem()"
   ]
  },
  {
   "cell_type": "code",
   "execution_count": 97,
   "id": "17fbc0b3",
   "metadata": {},
   "outputs": [
    {
     "data": {
      "text/plain": [
       "{'name': 'Raghul Ramesh',\n",
       " 'city': 'Chennai',\n",
       " 'tech': ['Python', 'Spark', 'AIML'],\n",
       " 'age': 38,\n",
       " 'manager': 'Levin Lenus',\n",
       " 'Project': 'Python Development'}"
      ]
     },
     "execution_count": 97,
     "metadata": {},
     "output_type": "execute_result"
    }
   ],
   "source": [
    "info"
   ]
  },
  {
   "cell_type": "code",
   "execution_count": 98,
   "id": "0093a460",
   "metadata": {},
   "outputs": [
    {
     "ename": "TypeError",
     "evalue": "popitem() takes no arguments (1 given)",
     "output_type": "error",
     "traceback": [
      "\u001b[1;31m---------------------------------------------------------------------------\u001b[0m",
      "\u001b[1;31mTypeError\u001b[0m                                 Traceback (most recent call last)",
      "Input \u001b[1;32mIn [98]\u001b[0m, in \u001b[0;36m<cell line: 1>\u001b[1;34m()\u001b[0m\n\u001b[1;32m----> 1\u001b[0m \u001b[43minfo\u001b[49m\u001b[38;5;241;43m.\u001b[39;49m\u001b[43mpopitem\u001b[49m\u001b[43m(\u001b[49m\u001b[38;5;124;43m'\u001b[39;49m\u001b[38;5;124;43mProject\u001b[39;49m\u001b[38;5;124;43m'\u001b[39;49m\u001b[43m)\u001b[49m\n",
      "\u001b[1;31mTypeError\u001b[0m: popitem() takes no arguments (1 given)"
     ]
    }
   ],
   "source": [
    "info.popitem('Project')"
   ]
  },
  {
   "cell_type": "code",
   "execution_count": 100,
   "id": "a88a8a35",
   "metadata": {},
   "outputs": [],
   "source": [
    "customer=['fname','lname','age','gender','city','address','country']"
   ]
  },
  {
   "cell_type": "code",
   "execution_count": 109,
   "id": "8b89e556",
   "metadata": {},
   "outputs": [],
   "source": [
    "cust1=dict.fromkeys(customer)"
   ]
  },
  {
   "cell_type": "code",
   "execution_count": 110,
   "id": "c7237be3",
   "metadata": {},
   "outputs": [
    {
     "data": {
      "text/plain": [
       "{'fname': None,\n",
       " 'lname': None,\n",
       " 'age': None,\n",
       " 'gender': None,\n",
       " 'city': None,\n",
       " 'address': None,\n",
       " 'country': None}"
      ]
     },
     "execution_count": 110,
     "metadata": {},
     "output_type": "execute_result"
    }
   ],
   "source": [
    "cust1"
   ]
  },
  {
   "cell_type": "code",
   "execution_count": 112,
   "id": "3dff6673",
   "metadata": {},
   "outputs": [],
   "source": [
    "cust1.clear()"
   ]
  },
  {
   "cell_type": "code",
   "execution_count": 113,
   "id": "80027e48",
   "metadata": {},
   "outputs": [
    {
     "data": {
      "text/plain": [
       "{}"
      ]
     },
     "execution_count": 113,
     "metadata": {},
     "output_type": "execute_result"
    }
   ],
   "source": [
    "cust1"
   ]
  },
  {
   "cell_type": "code",
   "execution_count": null,
   "id": "06c31342",
   "metadata": {},
   "outputs": [],
   "source": []
  }
 ],
 "metadata": {
  "kernelspec": {
   "display_name": "Python 3 (ipykernel)",
   "language": "python",
   "name": "python3"
  },
  "language_info": {
   "codemirror_mode": {
    "name": "ipython",
    "version": 3
   },
   "file_extension": ".py",
   "mimetype": "text/x-python",
   "name": "python",
   "nbconvert_exporter": "python",
   "pygments_lexer": "ipython3",
   "version": "3.8.10"
  }
 },
 "nbformat": 4,
 "nbformat_minor": 5
}
