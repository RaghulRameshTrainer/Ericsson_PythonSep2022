{
 "cells": [
  {
   "cell_type": "code",
   "execution_count": 1,
   "id": "37a88923",
   "metadata": {},
   "outputs": [],
   "source": [
    "t1=()"
   ]
  },
  {
   "cell_type": "code",
   "execution_count": 2,
   "id": "01654dfd",
   "metadata": {},
   "outputs": [
    {
     "data": {
      "text/plain": [
       "tuple"
      ]
     },
     "execution_count": 2,
     "metadata": {},
     "output_type": "execute_result"
    }
   ],
   "source": [
    "type(t1)"
   ]
  },
  {
   "cell_type": "code",
   "execution_count": 3,
   "id": "9a8935b8",
   "metadata": {},
   "outputs": [],
   "source": [
    "t2=tuple()"
   ]
  },
  {
   "cell_type": "code",
   "execution_count": 4,
   "id": "99b328d4",
   "metadata": {},
   "outputs": [
    {
     "data": {
      "text/plain": [
       "tuple"
      ]
     },
     "execution_count": 4,
     "metadata": {},
     "output_type": "execute_result"
    }
   ],
   "source": [
    "type(t2)"
   ]
  },
  {
   "cell_type": "code",
   "execution_count": 5,
   "id": "d2fc33c8",
   "metadata": {},
   "outputs": [],
   "source": [
    "nums=(1,2,3,4,5,6,7,8,9,10)"
   ]
  },
  {
   "cell_type": "code",
   "execution_count": 6,
   "id": "a2640706",
   "metadata": {},
   "outputs": [
    {
     "data": {
      "text/plain": [
       "tuple"
      ]
     },
     "execution_count": 6,
     "metadata": {},
     "output_type": "execute_result"
    }
   ],
   "source": [
    "type(nums)"
   ]
  },
  {
   "cell_type": "code",
   "execution_count": 7,
   "id": "27867dca",
   "metadata": {},
   "outputs": [
    {
     "data": {
      "text/plain": [
       "10"
      ]
     },
     "execution_count": 7,
     "metadata": {},
     "output_type": "execute_result"
    }
   ],
   "source": [
    "len(nums)"
   ]
  },
  {
   "cell_type": "code",
   "execution_count": 8,
   "id": "a4ff55d2",
   "metadata": {},
   "outputs": [
    {
     "data": {
      "text/plain": [
       "1"
      ]
     },
     "execution_count": 8,
     "metadata": {},
     "output_type": "execute_result"
    }
   ],
   "source": [
    "min(nums)"
   ]
  },
  {
   "cell_type": "code",
   "execution_count": 9,
   "id": "1eb65ae5",
   "metadata": {},
   "outputs": [
    {
     "data": {
      "text/plain": [
       "10"
      ]
     },
     "execution_count": 9,
     "metadata": {},
     "output_type": "execute_result"
    }
   ],
   "source": [
    "max(nums)"
   ]
  },
  {
   "cell_type": "code",
   "execution_count": 10,
   "id": "5c349e42",
   "metadata": {},
   "outputs": [
    {
     "data": {
      "text/plain": [
       "55"
      ]
     },
     "execution_count": 10,
     "metadata": {},
     "output_type": "execute_result"
    }
   ],
   "source": [
    "sum(nums)"
   ]
  },
  {
   "cell_type": "code",
   "execution_count": 11,
   "id": "b9c56a91",
   "metadata": {},
   "outputs": [
    {
     "name": "stdout",
     "output_type": "stream",
     "text": [
      "['__add__', '__class__', '__contains__', '__delattr__', '__dir__', '__doc__', '__eq__', '__format__', '__ge__', '__getattribute__', '__getitem__', '__getnewargs__', '__gt__', '__hash__', '__init__', '__init_subclass__', '__iter__', '__le__', '__len__', '__lt__', '__mul__', '__ne__', '__new__', '__reduce__', '__reduce_ex__', '__repr__', '__rmul__', '__setattr__', '__sizeof__', '__str__', '__subclasshook__', 'count', 'index']\n"
     ]
    }
   ],
   "source": [
    "print(dir(nums))"
   ]
  },
  {
   "cell_type": "code",
   "execution_count": 12,
   "id": "45ef9a1d",
   "metadata": {},
   "outputs": [
    {
     "data": {
      "text/plain": [
       "1"
      ]
     },
     "execution_count": 12,
     "metadata": {},
     "output_type": "execute_result"
    }
   ],
   "source": [
    "nums.count(6)"
   ]
  },
  {
   "cell_type": "code",
   "execution_count": 13,
   "id": "dea6a8f7",
   "metadata": {},
   "outputs": [
    {
     "data": {
      "text/plain": [
       "(1, 2, 3, 4, 5, 6, 7, 8, 9, 10)"
      ]
     },
     "execution_count": 13,
     "metadata": {},
     "output_type": "execute_result"
    }
   ],
   "source": [
    "nums"
   ]
  },
  {
   "cell_type": "code",
   "execution_count": 14,
   "id": "87b16df3",
   "metadata": {},
   "outputs": [
    {
     "data": {
      "text/plain": [
       "6"
      ]
     },
     "execution_count": 14,
     "metadata": {},
     "output_type": "execute_result"
    }
   ],
   "source": [
    "nums.index(7)"
   ]
  },
  {
   "cell_type": "code",
   "execution_count": 15,
   "id": "9e675a78",
   "metadata": {},
   "outputs": [],
   "source": [
    "tpl=(1,1,2,3,4,5,2,3,4,2,1,23,6,8,8,4,3,2,1)"
   ]
  },
  {
   "cell_type": "code",
   "execution_count": 16,
   "id": "9d4dff3a",
   "metadata": {},
   "outputs": [
    {
     "data": {
      "text/plain": [
       "tuple"
      ]
     },
     "execution_count": 16,
     "metadata": {},
     "output_type": "execute_result"
    }
   ],
   "source": [
    "type(tpl)"
   ]
  },
  {
   "cell_type": "code",
   "execution_count": 17,
   "id": "1fc4c038",
   "metadata": {},
   "outputs": [],
   "source": [
    "tpl=[1,1,2,3,4,5,2,3,4,2,1,23,6,8,8,4,3,2,1]"
   ]
  },
  {
   "cell_type": "code",
   "execution_count": 18,
   "id": "f9f6b58e",
   "metadata": {},
   "outputs": [
    {
     "data": {
      "text/plain": [
       "list"
      ]
     },
     "execution_count": 18,
     "metadata": {},
     "output_type": "execute_result"
    }
   ],
   "source": [
    "type(tpl)"
   ]
  },
  {
   "cell_type": "code",
   "execution_count": 19,
   "id": "b14acd48",
   "metadata": {
    "collapsed": true
   },
   "outputs": [
    {
     "ename": "SyntaxError",
     "evalue": "invalid syntax (990825113.py, line 1)",
     "output_type": "error",
     "traceback": [
      "\u001b[1;36m  Input \u001b[1;32mIn [19]\u001b[1;36m\u001b[0m\n\u001b[1;33m    LIST                                                            TUPLE\u001b[0m\n\u001b[1;37m                                                                    ^\u001b[0m\n\u001b[1;31mSyntaxError\u001b[0m\u001b[1;31m:\u001b[0m invalid syntax\n"
     ]
    }
   ],
   "source": [
    "LIST                                                            TUPLE\n",
    "Mutable Object                                                 Immutable\n",
    "[]                                                             ()\n",
    "Takes more memory                                              Less memory\n",
    "More time to process                                           Very less time to process the list of elements"
   ]
  },
  {
   "cell_type": "code",
   "execution_count": 20,
   "id": "aead681d",
   "metadata": {},
   "outputs": [
    {
     "name": "stdout",
     "output_type": "stream",
     "text": [
      "LIST MEMORY : 96\n",
      "TUPLE MEMORY : 80\n"
     ]
    }
   ],
   "source": [
    "import sys\n",
    "\n",
    "list1=[1,2,3,4,5]\n",
    "tuple1=(1,2,3,4,5)\n",
    "\n",
    "print(\"LIST MEMORY :\",sys.getsizeof(list1))\n",
    "print(\"TUPLE MEMORY :\",sys.getsizeof(tuple1))"
   ]
  },
  {
   "cell_type": "code",
   "execution_count": 21,
   "id": "54d5761f",
   "metadata": {},
   "outputs": [
    {
     "name": "stdout",
     "output_type": "stream",
     "text": [
      "LIST TAKES : 88.91879999998764\n",
      "TUPLE TAKES : 9.022500000014588\n"
     ]
    }
   ],
   "source": [
    "import timeit\n",
    "\n",
    "print(\"LIST TAKES :\", timeit.timeit(stmt=\"[1,2,3,4,5,6,7,8,9,10]\",number=1000000)*1000)\n",
    "print(\"TUPLE TAKES :\", timeit.timeit(stmt=\"(1,2,3,4,5,6,7,8,9,10)\",number=1000000)*1000)"
   ]
  },
  {
   "cell_type": "code",
   "execution_count": null,
   "id": "f9e06a4f",
   "metadata": {},
   "outputs": [],
   "source": []
  }
 ],
 "metadata": {
  "kernelspec": {
   "display_name": "Python 3 (ipykernel)",
   "language": "python",
   "name": "python3"
  },
  "language_info": {
   "codemirror_mode": {
    "name": "ipython",
    "version": 3
   },
   "file_extension": ".py",
   "mimetype": "text/x-python",
   "name": "python",
   "nbconvert_exporter": "python",
   "pygments_lexer": "ipython3",
   "version": "3.8.10"
  }
 },
 "nbformat": 4,
 "nbformat_minor": 5
}
