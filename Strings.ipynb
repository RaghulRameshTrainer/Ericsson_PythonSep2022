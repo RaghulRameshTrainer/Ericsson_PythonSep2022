{
 "cells": [
  {
   "cell_type": "markdown",
   "id": "87958820",
   "metadata": {},
   "source": [
    "# STRINGS"
   ]
  },
  {
   "cell_type": "code",
   "execution_count": 4,
   "id": "18f01071",
   "metadata": {},
   "outputs": [],
   "source": [
    "name='Raghul Ramesh'"
   ]
  },
  {
   "cell_type": "code",
   "execution_count": 5,
   "id": "ba09048c",
   "metadata": {},
   "outputs": [
    {
     "data": {
      "text/plain": [
       "'Raghul Ramesh'"
      ]
     },
     "execution_count": 5,
     "metadata": {},
     "output_type": "execute_result"
    }
   ],
   "source": [
    "name"
   ]
  },
  {
   "cell_type": "code",
   "execution_count": 6,
   "id": "d30a16e2",
   "metadata": {},
   "outputs": [
    {
     "data": {
      "text/plain": [
       "'RAGHUL RAMESH'"
      ]
     },
     "execution_count": 6,
     "metadata": {},
     "output_type": "execute_result"
    }
   ],
   "source": [
    "name.upper()"
   ]
  },
  {
   "cell_type": "code",
   "execution_count": 7,
   "id": "ee46faf3",
   "metadata": {},
   "outputs": [
    {
     "data": {
      "text/plain": [
       "'Raghul Ramesh'"
      ]
     },
     "execution_count": 7,
     "metadata": {},
     "output_type": "execute_result"
    }
   ],
   "source": [
    "name"
   ]
  },
  {
   "cell_type": "code",
   "execution_count": 8,
   "id": "104aa5d2",
   "metadata": {},
   "outputs": [
    {
     "data": {
      "text/plain": [
       "'raghul ramesh'"
      ]
     },
     "execution_count": 8,
     "metadata": {},
     "output_type": "execute_result"
    }
   ],
   "source": [
    "name.lower()"
   ]
  },
  {
   "cell_type": "code",
   "execution_count": 9,
   "id": "bed45d8e",
   "metadata": {},
   "outputs": [
    {
     "data": {
      "text/plain": [
       "'rAGHUL rAMESH'"
      ]
     },
     "execution_count": 9,
     "metadata": {},
     "output_type": "execute_result"
    }
   ],
   "source": [
    "name.swapcase()"
   ]
  },
  {
   "cell_type": "code",
   "execution_count": 10,
   "id": "0c86d5ff",
   "metadata": {},
   "outputs": [],
   "source": [
    "name='raghul ramesh'"
   ]
  },
  {
   "cell_type": "code",
   "execution_count": 11,
   "id": "efe600b6",
   "metadata": {},
   "outputs": [
    {
     "data": {
      "text/plain": [
       "'raghul ramesh'"
      ]
     },
     "execution_count": 11,
     "metadata": {},
     "output_type": "execute_result"
    }
   ],
   "source": [
    "name"
   ]
  },
  {
   "cell_type": "code",
   "execution_count": 12,
   "id": "41073c1b",
   "metadata": {},
   "outputs": [
    {
     "data": {
      "text/plain": [
       "'Raghul Ramesh'"
      ]
     },
     "execution_count": 12,
     "metadata": {},
     "output_type": "execute_result"
    }
   ],
   "source": [
    "name.title()"
   ]
  },
  {
   "cell_type": "code",
   "execution_count": 13,
   "id": "130a6d0e",
   "metadata": {},
   "outputs": [
    {
     "data": {
      "text/plain": [
       "'Raghul ramesh'"
      ]
     },
     "execution_count": 13,
     "metadata": {},
     "output_type": "execute_result"
    }
   ],
   "source": [
    "name.capitalize()"
   ]
  },
  {
   "cell_type": "code",
   "execution_count": 14,
   "id": "3cf6d1bc",
   "metadata": {},
   "outputs": [],
   "source": [
    "name='Raghul Ramesh'"
   ]
  },
  {
   "cell_type": "code",
   "execution_count": 15,
   "id": "ffee36d0",
   "metadata": {},
   "outputs": [
    {
     "data": {
      "text/plain": [
       "'Raghul Ramesh'"
      ]
     },
     "execution_count": 15,
     "metadata": {},
     "output_type": "execute_result"
    }
   ],
   "source": [
    "name"
   ]
  },
  {
   "cell_type": "code",
   "execution_count": 16,
   "id": "11c4a355",
   "metadata": {},
   "outputs": [
    {
     "data": {
      "text/plain": [
       "'raghul ramesh'"
      ]
     },
     "execution_count": 16,
     "metadata": {},
     "output_type": "execute_result"
    }
   ],
   "source": [
    "name.casefold()"
   ]
  },
  {
   "cell_type": "code",
   "execution_count": 17,
   "id": "a24a8b13",
   "metadata": {},
   "outputs": [
    {
     "data": {
      "text/plain": [
       "'Raghul Ramesh'"
      ]
     },
     "execution_count": 17,
     "metadata": {},
     "output_type": "execute_result"
    }
   ],
   "source": [
    "name"
   ]
  },
  {
   "cell_type": "code",
   "execution_count": 18,
   "id": "e82cd72e",
   "metadata": {},
   "outputs": [
    {
     "data": {
      "text/plain": [
       "'Raghul Ramesh'"
      ]
     },
     "execution_count": 18,
     "metadata": {},
     "output_type": "execute_result"
    }
   ],
   "source": [
    "name"
   ]
  },
  {
   "cell_type": "code",
   "execution_count": 19,
   "id": "feb0ab8b",
   "metadata": {},
   "outputs": [
    {
     "data": {
      "text/plain": [
       "True"
      ]
     },
     "execution_count": 19,
     "metadata": {},
     "output_type": "execute_result"
    }
   ],
   "source": [
    "name.istitle()  #True False None , Class"
   ]
  },
  {
   "cell_type": "code",
   "execution_count": 20,
   "id": "853540d3",
   "metadata": {},
   "outputs": [
    {
     "data": {
      "text/plain": [
       "False"
      ]
     },
     "execution_count": 20,
     "metadata": {},
     "output_type": "execute_result"
    }
   ],
   "source": [
    "name.isupper()"
   ]
  },
  {
   "cell_type": "code",
   "execution_count": 21,
   "id": "6dfdf8cb",
   "metadata": {},
   "outputs": [
    {
     "data": {
      "text/plain": [
       "False"
      ]
     },
     "execution_count": 21,
     "metadata": {},
     "output_type": "execute_result"
    }
   ],
   "source": [
    "name.islower()"
   ]
  },
  {
   "cell_type": "code",
   "execution_count": 22,
   "id": "243a6c8c",
   "metadata": {},
   "outputs": [
    {
     "data": {
      "text/plain": [
       "False"
      ]
     },
     "execution_count": 22,
     "metadata": {},
     "output_type": "execute_result"
    }
   ],
   "source": [
    "name.isspace()"
   ]
  },
  {
   "cell_type": "code",
   "execution_count": 23,
   "id": "57b0e05a",
   "metadata": {},
   "outputs": [
    {
     "data": {
      "text/plain": [
       "False"
      ]
     },
     "execution_count": 23,
     "metadata": {},
     "output_type": "execute_result"
    }
   ],
   "source": [
    "name.isnumeric()"
   ]
  },
  {
   "cell_type": "code",
   "execution_count": 24,
   "id": "adfede11",
   "metadata": {},
   "outputs": [],
   "source": [
    "age='38'"
   ]
  },
  {
   "cell_type": "code",
   "execution_count": 25,
   "id": "e4d76289",
   "metadata": {},
   "outputs": [
    {
     "data": {
      "text/plain": [
       "True"
      ]
     },
     "execution_count": 25,
     "metadata": {},
     "output_type": "execute_result"
    }
   ],
   "source": [
    "age.isnumeric()"
   ]
  },
  {
   "cell_type": "code",
   "execution_count": 26,
   "id": "8ac8fde0",
   "metadata": {},
   "outputs": [
    {
     "data": {
      "text/plain": [
       "True"
      ]
     },
     "execution_count": 26,
     "metadata": {},
     "output_type": "execute_result"
    }
   ],
   "source": [
    "age.isalnum()"
   ]
  },
  {
   "cell_type": "code",
   "execution_count": 27,
   "id": "115358ed",
   "metadata": {},
   "outputs": [
    {
     "data": {
      "text/plain": [
       "False"
      ]
     },
     "execution_count": 27,
     "metadata": {},
     "output_type": "execute_result"
    }
   ],
   "source": [
    "age.isalpha()"
   ]
  },
  {
   "cell_type": "code",
   "execution_count": 28,
   "id": "0abb22aa",
   "metadata": {},
   "outputs": [],
   "source": [
    "empid=\"sc1490566\""
   ]
  },
  {
   "cell_type": "code",
   "execution_count": 29,
   "id": "cd2b9092",
   "metadata": {},
   "outputs": [
    {
     "data": {
      "text/plain": [
       "True"
      ]
     },
     "execution_count": 29,
     "metadata": {},
     "output_type": "execute_result"
    }
   ],
   "source": [
    "empid.isalnum()"
   ]
  },
  {
   "cell_type": "code",
   "execution_count": 30,
   "id": "e39dba4a",
   "metadata": {},
   "outputs": [
    {
     "data": {
      "text/plain": [
       "False"
      ]
     },
     "execution_count": 30,
     "metadata": {},
     "output_type": "execute_result"
    }
   ],
   "source": [
    "empid.isalpha()"
   ]
  },
  {
   "cell_type": "code",
   "execution_count": 31,
   "id": "fa667ca3",
   "metadata": {},
   "outputs": [
    {
     "data": {
      "text/plain": [
       "False"
      ]
     },
     "execution_count": 31,
     "metadata": {},
     "output_type": "execute_result"
    }
   ],
   "source": [
    "empid.isnumeric()"
   ]
  },
  {
   "cell_type": "code",
   "execution_count": 32,
   "id": "47780fd1",
   "metadata": {},
   "outputs": [
    {
     "data": {
      "text/plain": [
       "True"
      ]
     },
     "execution_count": 32,
     "metadata": {},
     "output_type": "execute_result"
    }
   ],
   "source": [
    "empid.isprintable()"
   ]
  },
  {
   "cell_type": "code",
   "execution_count": 33,
   "id": "b82f8b0f",
   "metadata": {},
   "outputs": [
    {
     "data": {
      "text/plain": [
       "True"
      ]
     },
     "execution_count": 33,
     "metadata": {},
     "output_type": "execute_result"
    }
   ],
   "source": [
    "empid.isascii()"
   ]
  },
  {
   "cell_type": "markdown",
   "id": "c21ea465",
   "metadata": {},
   "source": [
    "# INDEX and FIND"
   ]
  },
  {
   "cell_type": "code",
   "execution_count": 34,
   "id": "cbd67cbc",
   "metadata": {},
   "outputs": [
    {
     "data": {
      "text/plain": [
       "'Raghul Ramesh'"
      ]
     },
     "execution_count": 34,
     "metadata": {},
     "output_type": "execute_result"
    }
   ],
   "source": [
    "name"
   ]
  },
  {
   "cell_type": "code",
   "execution_count": 35,
   "id": "aa8607db",
   "metadata": {},
   "outputs": [
    {
     "data": {
      "text/plain": [
       "2"
      ]
     },
     "execution_count": 35,
     "metadata": {},
     "output_type": "execute_result"
    }
   ],
   "source": [
    "name.index('g')"
   ]
  },
  {
   "cell_type": "code",
   "execution_count": 40,
   "id": "34c7dc71",
   "metadata": {},
   "outputs": [
    {
     "data": {
      "text/plain": [
       "2"
      ]
     },
     "execution_count": 40,
     "metadata": {},
     "output_type": "execute_result"
    }
   ],
   "source": [
    "name.find('g')"
   ]
  },
  {
   "cell_type": "code",
   "execution_count": 36,
   "id": "c5bdf384",
   "metadata": {},
   "outputs": [
    {
     "data": {
      "text/plain": [
       "9"
      ]
     },
     "execution_count": 36,
     "metadata": {},
     "output_type": "execute_result"
    }
   ],
   "source": [
    "name.index('m')"
   ]
  },
  {
   "cell_type": "code",
   "execution_count": 41,
   "id": "1d9a8ba7",
   "metadata": {},
   "outputs": [
    {
     "data": {
      "text/plain": [
       "9"
      ]
     },
     "execution_count": 41,
     "metadata": {},
     "output_type": "execute_result"
    }
   ],
   "source": [
    "name.find('m')"
   ]
  },
  {
   "cell_type": "code",
   "execution_count": 37,
   "id": "c6c4c326",
   "metadata": {},
   "outputs": [
    {
     "data": {
      "text/plain": [
       "0"
      ]
     },
     "execution_count": 37,
     "metadata": {},
     "output_type": "execute_result"
    }
   ],
   "source": [
    "name.index('R')"
   ]
  },
  {
   "cell_type": "code",
   "execution_count": 42,
   "id": "6aec5d95",
   "metadata": {},
   "outputs": [
    {
     "data": {
      "text/plain": [
       "0"
      ]
     },
     "execution_count": 42,
     "metadata": {},
     "output_type": "execute_result"
    }
   ],
   "source": [
    "name.find('R')"
   ]
  },
  {
   "cell_type": "code",
   "execution_count": 38,
   "id": "a0f33924",
   "metadata": {},
   "outputs": [
    {
     "data": {
      "text/plain": [
       "7"
      ]
     },
     "execution_count": 38,
     "metadata": {},
     "output_type": "execute_result"
    }
   ],
   "source": [
    "name.index('R',1)"
   ]
  },
  {
   "cell_type": "code",
   "execution_count": 43,
   "id": "4dc8f6fd",
   "metadata": {},
   "outputs": [
    {
     "data": {
      "text/plain": [
       "7"
      ]
     },
     "execution_count": 43,
     "metadata": {},
     "output_type": "execute_result"
    }
   ],
   "source": [
    "name.index('R',1)"
   ]
  },
  {
   "cell_type": "code",
   "execution_count": 39,
   "id": "d21c8bfc",
   "metadata": {},
   "outputs": [
    {
     "data": {
      "text/plain": [
       "7"
      ]
     },
     "execution_count": 39,
     "metadata": {},
     "output_type": "execute_result"
    }
   ],
   "source": [
    "name.rindex('R')"
   ]
  },
  {
   "cell_type": "code",
   "execution_count": 44,
   "id": "6872534b",
   "metadata": {},
   "outputs": [
    {
     "data": {
      "text/plain": [
       "7"
      ]
     },
     "execution_count": 44,
     "metadata": {},
     "output_type": "execute_result"
    }
   ],
   "source": [
    "name.rfind('R')"
   ]
  },
  {
   "cell_type": "code",
   "execution_count": 45,
   "id": "cddfc5aa",
   "metadata": {},
   "outputs": [
    {
     "data": {
      "text/plain": [
       "'Raghul Ramesh'"
      ]
     },
     "execution_count": 45,
     "metadata": {},
     "output_type": "execute_result"
    }
   ],
   "source": [
    "name"
   ]
  },
  {
   "cell_type": "code",
   "execution_count": 46,
   "id": "6a6fd556",
   "metadata": {},
   "outputs": [
    {
     "ename": "ValueError",
     "evalue": "substring not found",
     "output_type": "error",
     "traceback": [
      "\u001b[1;31m---------------------------------------------------------------------------\u001b[0m",
      "\u001b[1;31mValueError\u001b[0m                                Traceback (most recent call last)",
      "Input \u001b[1;32mIn [46]\u001b[0m, in \u001b[0;36m<cell line: 1>\u001b[1;34m()\u001b[0m\n\u001b[1;32m----> 1\u001b[0m \u001b[43mname\u001b[49m\u001b[38;5;241;43m.\u001b[39;49m\u001b[43mindex\u001b[49m\u001b[43m(\u001b[49m\u001b[38;5;124;43m'\u001b[39;49m\u001b[38;5;124;43mz\u001b[39;49m\u001b[38;5;124;43m'\u001b[39;49m\u001b[43m)\u001b[49m\n",
      "\u001b[1;31mValueError\u001b[0m: substring not found"
     ]
    }
   ],
   "source": [
    "name.index('z')"
   ]
  },
  {
   "cell_type": "code",
   "execution_count": 47,
   "id": "dc449dba",
   "metadata": {},
   "outputs": [
    {
     "data": {
      "text/plain": [
       "-1"
      ]
     },
     "execution_count": 47,
     "metadata": {},
     "output_type": "execute_result"
    }
   ],
   "source": [
    "name.find('z')"
   ]
  },
  {
   "cell_type": "code",
   "execution_count": 48,
   "id": "2d5ebef3",
   "metadata": {},
   "outputs": [],
   "source": [
    "#center , ljust, rjust"
   ]
  },
  {
   "cell_type": "code",
   "execution_count": 49,
   "id": "9f235ede",
   "metadata": {},
   "outputs": [
    {
     "data": {
      "text/plain": [
       "'Raghul Ramesh'"
      ]
     },
     "execution_count": 49,
     "metadata": {},
     "output_type": "execute_result"
    }
   ],
   "source": [
    "name"
   ]
  },
  {
   "cell_type": "code",
   "execution_count": 50,
   "id": "085500b8",
   "metadata": {},
   "outputs": [
    {
     "data": {
      "text/plain": [
       "'                  Raghul Ramesh                   '"
      ]
     },
     "execution_count": 50,
     "metadata": {},
     "output_type": "execute_result"
    }
   ],
   "source": [
    "name.center(50)"
   ]
  },
  {
   "cell_type": "code",
   "execution_count": 51,
   "id": "bd1d9986",
   "metadata": {},
   "outputs": [
    {
     "data": {
      "text/plain": [
       "'******************Raghul Ramesh*******************'"
      ]
     },
     "execution_count": 51,
     "metadata": {},
     "output_type": "execute_result"
    }
   ],
   "source": [
    "name.center(50,'*')"
   ]
  },
  {
   "cell_type": "code",
   "execution_count": 52,
   "id": "d3aa0023",
   "metadata": {},
   "outputs": [
    {
     "data": {
      "text/plain": [
       "'..................Raghul Ramesh...................'"
      ]
     },
     "execution_count": 52,
     "metadata": {},
     "output_type": "execute_result"
    }
   ],
   "source": [
    "name.center(50,'.')"
   ]
  },
  {
   "cell_type": "code",
   "execution_count": 53,
   "id": "f4053d8d",
   "metadata": {},
   "outputs": [
    {
     "data": {
      "text/plain": [
       "'__________________Raghul Ramesh___________________'"
      ]
     },
     "execution_count": 53,
     "metadata": {},
     "output_type": "execute_result"
    }
   ],
   "source": [
    "name.center(50,'_')"
   ]
  },
  {
   "cell_type": "code",
   "execution_count": 54,
   "id": "871a881a",
   "metadata": {},
   "outputs": [
    {
     "data": {
      "text/plain": [
       "'------------------Raghul Ramesh-------------------'"
      ]
     },
     "execution_count": 54,
     "metadata": {},
     "output_type": "execute_result"
    }
   ],
   "source": [
    "name.center(50,'-')"
   ]
  },
  {
   "cell_type": "code",
   "execution_count": 56,
   "id": "dd7366b1",
   "metadata": {},
   "outputs": [
    {
     "data": {
      "text/plain": [
       "'Raghul Ramesh#####################################'"
      ]
     },
     "execution_count": 56,
     "metadata": {},
     "output_type": "execute_result"
    }
   ],
   "source": [
    "name.ljust(50,'#')"
   ]
  },
  {
   "cell_type": "code",
   "execution_count": 57,
   "id": "a8028482",
   "metadata": {},
   "outputs": [
    {
     "data": {
      "text/plain": [
       "'Raghul Ramesh~~~~~~~~~~~~~~~~~~~~~~~~~~~~~~~~~~~~~'"
      ]
     },
     "execution_count": 57,
     "metadata": {},
     "output_type": "execute_result"
    }
   ],
   "source": [
    "name.ljust(50,'~')"
   ]
  },
  {
   "cell_type": "code",
   "execution_count": 58,
   "id": "a8606ffe",
   "metadata": {},
   "outputs": [
    {
     "data": {
      "text/plain": [
       "'.....................................Raghul Ramesh'"
      ]
     },
     "execution_count": 58,
     "metadata": {},
     "output_type": "execute_result"
    }
   ],
   "source": [
    "name.rjust(50,'.')"
   ]
  },
  {
   "cell_type": "code",
   "execution_count": 59,
   "id": "6004ecc6",
   "metadata": {},
   "outputs": [],
   "source": [
    "#stip, lstrip, rstrip"
   ]
  },
  {
   "cell_type": "code",
   "execution_count": 60,
   "id": "3b5068da",
   "metadata": {},
   "outputs": [],
   "source": [
    "name=\"        Raghul Ramesh   \""
   ]
  },
  {
   "cell_type": "code",
   "execution_count": 61,
   "id": "0b5e828f",
   "metadata": {},
   "outputs": [
    {
     "data": {
      "text/plain": [
       "'        Raghul Ramesh   '"
      ]
     },
     "execution_count": 61,
     "metadata": {},
     "output_type": "execute_result"
    }
   ],
   "source": [
    "name"
   ]
  },
  {
   "cell_type": "code",
   "execution_count": 62,
   "id": "9fceee5b",
   "metadata": {},
   "outputs": [
    {
     "data": {
      "text/plain": [
       "'Raghul Ramesh'"
      ]
     },
     "execution_count": 62,
     "metadata": {},
     "output_type": "execute_result"
    }
   ],
   "source": [
    "name.strip()"
   ]
  },
  {
   "cell_type": "code",
   "execution_count": 63,
   "id": "fd5e0f30",
   "metadata": {},
   "outputs": [
    {
     "data": {
      "text/plain": [
       "'Raghul Ramesh   '"
      ]
     },
     "execution_count": 63,
     "metadata": {},
     "output_type": "execute_result"
    }
   ],
   "source": [
    "name.lstrip()"
   ]
  },
  {
   "cell_type": "code",
   "execution_count": 64,
   "id": "06cf440c",
   "metadata": {},
   "outputs": [
    {
     "data": {
      "text/plain": [
       "'        Raghul Ramesh'"
      ]
     },
     "execution_count": 64,
     "metadata": {},
     "output_type": "execute_result"
    }
   ],
   "source": [
    "name.rstrip()"
   ]
  },
  {
   "cell_type": "code",
   "execution_count": 65,
   "id": "6e5b54d2",
   "metadata": {},
   "outputs": [],
   "source": [
    "city='chennai-bangalore-hyderabad-pune-delhi'"
   ]
  },
  {
   "cell_type": "code",
   "execution_count": 66,
   "id": "f054d394",
   "metadata": {},
   "outputs": [
    {
     "data": {
      "text/plain": [
       "['chennai', 'bangalore', 'hyderabad', 'pune', 'delhi']"
      ]
     },
     "execution_count": 66,
     "metadata": {},
     "output_type": "execute_result"
    }
   ],
   "source": [
    "city.split('-')"
   ]
  },
  {
   "cell_type": "code",
   "execution_count": 67,
   "id": "f4a28f1e",
   "metadata": {},
   "outputs": [],
   "source": [
    "#replace, translate"
   ]
  },
  {
   "cell_type": "code",
   "execution_count": 68,
   "id": "0b015198",
   "metadata": {},
   "outputs": [
    {
     "data": {
      "text/plain": [
       "'chennai-bangalore-hyderabad-pune-delhi'"
      ]
     },
     "execution_count": 68,
     "metadata": {},
     "output_type": "execute_result"
    }
   ],
   "source": [
    "city"
   ]
  },
  {
   "cell_type": "code",
   "execution_count": 69,
   "id": "59b45441",
   "metadata": {},
   "outputs": [
    {
     "data": {
      "text/plain": [
       "'chennai-bangalore-hyderabad-pune-gurgoan'"
      ]
     },
     "execution_count": 69,
     "metadata": {},
     "output_type": "execute_result"
    }
   ],
   "source": [
    "city.replace('delhi','gurgoan')"
   ]
  },
  {
   "cell_type": "code",
   "execution_count": 70,
   "id": "6e003934",
   "metadata": {},
   "outputs": [
    {
     "data": {
      "text/plain": [
       "'chennai-bangalore-hyderabad-pune-delhi'"
      ]
     },
     "execution_count": 70,
     "metadata": {},
     "output_type": "execute_result"
    }
   ],
   "source": [
    "city"
   ]
  },
  {
   "cell_type": "code",
   "execution_count": 72,
   "id": "4a1aa592",
   "metadata": {},
   "outputs": [
    {
     "data": {
      "text/plain": [
       "'chennai_bangalore_hyderabad_pune_delhi'"
      ]
     },
     "execution_count": 72,
     "metadata": {},
     "output_type": "execute_result"
    }
   ],
   "source": [
    "city.replace('-','_')"
   ]
  },
  {
   "cell_type": "code",
   "execution_count": 73,
   "id": "12d6a474",
   "metadata": {},
   "outputs": [
    {
     "data": {
      "text/plain": [
       "'chennai-bangalore-hyderabad-pune-delhi'"
      ]
     },
     "execution_count": 73,
     "metadata": {},
     "output_type": "execute_result"
    }
   ],
   "source": [
    "# a->A\n",
    "# b->B\n",
    "# c->C\n",
    "\n",
    "city.replace('abc','ABC')"
   ]
  },
  {
   "cell_type": "code",
   "execution_count": 74,
   "id": "030f2057",
   "metadata": {},
   "outputs": [
    {
     "data": {
      "text/plain": [
       "'ChennAi-BAngAlore-hyderABAd-pune-delhi'"
      ]
     },
     "execution_count": 74,
     "metadata": {},
     "output_type": "execute_result"
    }
   ],
   "source": [
    "city.replace('a','A').replace('b','B').replace('c','C')"
   ]
  },
  {
   "cell_type": "code",
   "execution_count": 98,
   "id": "7ebced96",
   "metadata": {},
   "outputs": [],
   "source": [
    "company=\"E!r%^ic^&#%&#ss)*)!(#*)o><:n!\""
   ]
  },
  {
   "cell_type": "code",
   "execution_count": 76,
   "id": "08229231",
   "metadata": {},
   "outputs": [
    {
     "data": {
      "text/plain": [
       "'chennai-bangalore-hyderabad-pune-delhi'"
      ]
     },
     "execution_count": 76,
     "metadata": {},
     "output_type": "execute_result"
    }
   ],
   "source": [
    "city"
   ]
  },
  {
   "cell_type": "code",
   "execution_count": 78,
   "id": "664e7242",
   "metadata": {},
   "outputs": [
    {
     "ename": "TypeError",
     "evalue": "translate() takes exactly one argument (2 given)",
     "output_type": "error",
     "traceback": [
      "\u001b[1;31m---------------------------------------------------------------------------\u001b[0m",
      "\u001b[1;31mTypeError\u001b[0m                                 Traceback (most recent call last)",
      "Input \u001b[1;32mIn [78]\u001b[0m, in \u001b[0;36m<cell line: 1>\u001b[1;34m()\u001b[0m\n\u001b[1;32m----> 1\u001b[0m \u001b[43mcity\u001b[49m\u001b[38;5;241;43m.\u001b[39;49m\u001b[43mtranslate\u001b[49m\u001b[43m(\u001b[49m\u001b[38;5;124;43m'\u001b[39;49m\u001b[38;5;124;43mabc\u001b[39;49m\u001b[38;5;124;43m'\u001b[39;49m\u001b[43m,\u001b[49m\u001b[38;5;124;43m'\u001b[39;49m\u001b[38;5;124;43mABC\u001b[39;49m\u001b[38;5;124;43m'\u001b[39;49m\u001b[43m)\u001b[49m\n",
      "\u001b[1;31mTypeError\u001b[0m: translate() takes exactly one argument (2 given)"
     ]
    }
   ],
   "source": [
    "city.translate('abc','ABC')"
   ]
  },
  {
   "cell_type": "code",
   "execution_count": 79,
   "id": "1fb4ecbc",
   "metadata": {},
   "outputs": [
    {
     "data": {
      "text/plain": [
       "97"
      ]
     },
     "execution_count": 79,
     "metadata": {},
     "output_type": "execute_result"
    }
   ],
   "source": [
    "ord('a')"
   ]
  },
  {
   "cell_type": "code",
   "execution_count": 80,
   "id": "a5df60aa",
   "metadata": {},
   "outputs": [
    {
     "data": {
      "text/plain": [
       "65"
      ]
     },
     "execution_count": 80,
     "metadata": {},
     "output_type": "execute_result"
    }
   ],
   "source": [
    "ord('A')"
   ]
  },
  {
   "cell_type": "code",
   "execution_count": 81,
   "id": "ef42c3bd",
   "metadata": {},
   "outputs": [
    {
     "data": {
      "text/plain": [
       "98"
      ]
     },
     "execution_count": 81,
     "metadata": {},
     "output_type": "execute_result"
    }
   ],
   "source": [
    "ord('b')"
   ]
  },
  {
   "cell_type": "code",
   "execution_count": 82,
   "id": "2a5119a7",
   "metadata": {},
   "outputs": [
    {
     "data": {
      "text/plain": [
       "'ChennAi-BAngAlore-hyderABAd-pune-delhi'"
      ]
     },
     "execution_count": 82,
     "metadata": {},
     "output_type": "execute_result"
    }
   ],
   "source": [
    "city.translate({97:65,98:66,99:67})"
   ]
  },
  {
   "cell_type": "code",
   "execution_count": 87,
   "id": "42508f3b",
   "metadata": {},
   "outputs": [],
   "source": [
    "mychanges=city.maketrans('abc','ABC')"
   ]
  },
  {
   "cell_type": "code",
   "execution_count": 88,
   "id": "f1e906b5",
   "metadata": {},
   "outputs": [
    {
     "data": {
      "text/plain": [
       "'ChennAi-BAngAlore-hyderABAd-pune-delhi'"
      ]
     },
     "execution_count": 88,
     "metadata": {},
     "output_type": "execute_result"
    }
   ],
   "source": [
    "city.translate(mychanges)"
   ]
  },
  {
   "cell_type": "code",
   "execution_count": 89,
   "id": "815dbd32",
   "metadata": {},
   "outputs": [
    {
     "data": {
      "text/plain": [
       "'E!r%^ic^&#%E&#ss)*)!(#*)o><:n!'"
      ]
     },
     "execution_count": 89,
     "metadata": {},
     "output_type": "execute_result"
    }
   ],
   "source": [
    "company"
   ]
  },
  {
   "cell_type": "code",
   "execution_count": 100,
   "id": "8dfbc514",
   "metadata": {},
   "outputs": [],
   "source": [
    "cng=company.maketrans(\"~!@#$%^&*()_+=-`<>:\",\"                   \")"
   ]
  },
  {
   "cell_type": "code",
   "execution_count": 104,
   "id": "c0401ee2",
   "metadata": {},
   "outputs": [],
   "source": [
    "cng={126: None,\n",
    " 33: None,\n",
    " 64: None,\n",
    " 35: None,\n",
    " 36: None,\n",
    " 37: None,\n",
    " 94: None,\n",
    " 38: None,\n",
    " 42: None,\n",
    " 40: None,\n",
    " 41: None,\n",
    " 95: None,\n",
    " 43: None,\n",
    " 61: None,\n",
    " 45: None,\n",
    " 96: None,\n",
    " 60: None,\n",
    " 62: None,\n",
    " 58: None}"
   ]
  },
  {
   "cell_type": "code",
   "execution_count": 105,
   "id": "9a3dc9de",
   "metadata": {},
   "outputs": [
    {
     "data": {
      "text/plain": [
       "'Ericsson'"
      ]
     },
     "execution_count": 105,
     "metadata": {},
     "output_type": "execute_result"
    }
   ],
   "source": [
    "company.translate(cng)"
   ]
  },
  {
   "cell_type": "code",
   "execution_count": 108,
   "id": "8ecfbf78",
   "metadata": {},
   "outputs": [],
   "source": [
    "office=\"C!^%h#@e*(&n@@n-^$&*!^($a_+i~!)\""
   ]
  },
  {
   "cell_type": "code",
   "execution_count": 109,
   "id": "476af226",
   "metadata": {},
   "outputs": [
    {
     "data": {
      "text/plain": [
       "'Chennai'"
      ]
     },
     "execution_count": 109,
     "metadata": {},
     "output_type": "execute_result"
    }
   ],
   "source": [
    "office.translate(cng)"
   ]
  },
  {
   "cell_type": "code",
   "execution_count": 110,
   "id": "7f4cbd41",
   "metadata": {},
   "outputs": [],
   "source": [
    "city=\"Chennai\""
   ]
  },
  {
   "cell_type": "code",
   "execution_count": null,
   "id": "0a2d4049",
   "metadata": {},
   "outputs": [],
   "source": []
  }
 ],
 "metadata": {
  "kernelspec": {
   "display_name": "Python 3 (ipykernel)",
   "language": "python",
   "name": "python3"
  },
  "language_info": {
   "codemirror_mode": {
    "name": "ipython",
    "version": 3
   },
   "file_extension": ".py",
   "mimetype": "text/x-python",
   "name": "python",
   "nbconvert_exporter": "python",
   "pygments_lexer": "ipython3",
   "version": "3.8.10"
  }
 },
 "nbformat": 4,
 "nbformat_minor": 5
}
