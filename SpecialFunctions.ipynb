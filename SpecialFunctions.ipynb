{
 "cells": [
  {
   "cell_type": "markdown",
   "id": "13c228f7",
   "metadata": {},
   "source": [
    "# lambda, map, filter, reduce"
   ]
  },
  {
   "cell_type": "markdown",
   "id": "0562d819",
   "metadata": {},
   "source": [
    "# lambda"
   ]
  },
  {
   "cell_type": "code",
   "execution_count": 1,
   "id": "c757607a",
   "metadata": {},
   "outputs": [
    {
     "data": {
      "text/plain": [
       "30"
      ]
     },
     "execution_count": 1,
     "metadata": {},
     "output_type": "execute_result"
    }
   ],
   "source": [
    "#lambda inputs: expr\n",
    "\n",
    "(lambda x,y:x+y)(10,20)"
   ]
  },
  {
   "cell_type": "code",
   "execution_count": 4,
   "id": "69a34d03",
   "metadata": {},
   "outputs": [
    {
     "data": {
      "text/plain": [
       "200"
      ]
     },
     "execution_count": 4,
     "metadata": {},
     "output_type": "execute_result"
    }
   ],
   "source": [
    "#find a big number \n",
    "\n",
    "(lambda x,y : x if x>y else y)(100,200)"
   ]
  },
  {
   "cell_type": "code",
   "execution_count": 5,
   "id": "cb6ea877",
   "metadata": {},
   "outputs": [],
   "source": [
    "bn=lambda x,y : x if x>y else y"
   ]
  },
  {
   "cell_type": "code",
   "execution_count": 6,
   "id": "4cf0e9cf",
   "metadata": {},
   "outputs": [
    {
     "data": {
      "text/plain": [
       "6"
      ]
     },
     "execution_count": 6,
     "metadata": {},
     "output_type": "execute_result"
    }
   ],
   "source": [
    "bn(5,6)"
   ]
  },
  {
   "cell_type": "code",
   "execution_count": 7,
   "id": "2ad8245b",
   "metadata": {},
   "outputs": [
    {
     "data": {
      "text/plain": [
       "22"
      ]
     },
     "execution_count": 7,
     "metadata": {},
     "output_type": "execute_result"
    }
   ],
   "source": [
    "bn(10,22)"
   ]
  },
  {
   "cell_type": "code",
   "execution_count": 8,
   "id": "7dd5858b",
   "metadata": {},
   "outputs": [],
   "source": [
    "#can you write a lambda function to find a big number from the given 3 individual number\n",
    "\n",
    "fb=lambda x,y,z : max([x,y,z])"
   ]
  },
  {
   "cell_type": "code",
   "execution_count": 9,
   "id": "c3679ee4",
   "metadata": {},
   "outputs": [
    {
     "data": {
      "text/plain": [
       "40"
      ]
     },
     "execution_count": 9,
     "metadata": {},
     "output_type": "execute_result"
    }
   ],
   "source": [
    "fb(10,40,30)"
   ]
  },
  {
   "cell_type": "code",
   "execution_count": 10,
   "id": "1e17ccae",
   "metadata": {},
   "outputs": [],
   "source": [
    "fbt=lambda x,y,z : x if x>y and x>z else y if y>x and y>z else z"
   ]
  },
  {
   "cell_type": "code",
   "execution_count": 11,
   "id": "c2af0f4d",
   "metadata": {},
   "outputs": [
    {
     "data": {
      "text/plain": [
       "223"
      ]
     },
     "execution_count": 11,
     "metadata": {},
     "output_type": "execute_result"
    }
   ],
   "source": [
    "fbt(10,50,223)"
   ]
  },
  {
   "cell_type": "code",
   "execution_count": 12,
   "id": "651a35ae",
   "metadata": {},
   "outputs": [
    {
     "data": {
      "text/plain": [
       "500"
      ]
     },
     "execution_count": 12,
     "metadata": {},
     "output_type": "execute_result"
    }
   ],
   "source": [
    "fbt(10,500,223)"
   ]
  },
  {
   "cell_type": "markdown",
   "id": "ff7e3664",
   "metadata": {},
   "source": [
    "# fbt(1000,50,223)"
   ]
  },
  {
   "cell_type": "markdown",
   "id": "54885484",
   "metadata": {},
   "source": [
    "# map"
   ]
  },
  {
   "cell_type": "code",
   "execution_count": 14,
   "id": "875c6835",
   "metadata": {},
   "outputs": [
    {
     "data": {
      "text/plain": [
       "[1, 4, 9, 16, 25, 36, 49, 64, 81, 100]"
      ]
     },
     "execution_count": 14,
     "metadata": {},
     "output_type": "execute_result"
    }
   ],
   "source": [
    "#map(function, 10nums)\n",
    "list(map(lambda x:x**2, [1,2,3,4,5,6,7,8,9,10]))"
   ]
  },
  {
   "cell_type": "markdown",
   "id": "20a98454",
   "metadata": {},
   "source": [
    "# filter"
   ]
  },
  {
   "cell_type": "code",
   "execution_count": 17,
   "id": "3e317582",
   "metadata": {},
   "outputs": [
    {
     "name": "stdout",
     "output_type": "stream",
     "text": [
      "[1, 3, 5, 7, 9, 11, 13, 15, 17, 19, 21, 23, 25, 27, 29, 31, 33, 35, 37, 39, 41, 43, 45, 47, 49, 51, 53, 55, 57, 59, 61, 63, 65, 67, 69, 71, 73, 75, 77, 79, 81, 83, 85, 87, 89, 91, 93, 95, 97, 99]\n"
     ]
    }
   ],
   "source": [
    "#get the odd number from 1-100\n",
    "\n",
    "print(list(filter(lambda x:x%2==1 , list(range(1,101)))))"
   ]
  },
  {
   "cell_type": "code",
   "execution_count": 19,
   "id": "546ee869",
   "metadata": {},
   "outputs": [
    {
     "name": "stdout",
     "output_type": "stream",
     "text": [
      "[1, 3, 5, 7, 9, 11, 13, 15, 17, 19, 21, 23, 25, 27, 29, 31, 33, 35, 37, 39, 41, 43, 45, 47, 49, 51, 53, 55, 57, 59, 61, 63, 65, 67, 69, 71, 73, 75, 77, 79, 81, 83, 85, 87, 89, 91, 93, 95, 97, 99]\n"
     ]
    }
   ],
   "source": [
    "print(list(filter(lambda x:x%2==1 , list(range(1,101)))))"
   ]
  },
  {
   "cell_type": "code",
   "execution_count": 20,
   "id": "bc172561",
   "metadata": {},
   "outputs": [],
   "source": [
    "#multples of 5\n",
    "\n",
    "def get_5s(x):\n",
    "    if x%5==0:\n",
    "        return x"
   ]
  },
  {
   "cell_type": "code",
   "execution_count": 22,
   "id": "a355eb5b",
   "metadata": {},
   "outputs": [
    {
     "data": {
      "text/plain": [
       "[5, 10, 15, 20, 25, 30, 35, 40, 45, 50, 55, 60, 65, 70, 75, 80, 85, 90, 95]"
      ]
     },
     "execution_count": 22,
     "metadata": {},
     "output_type": "execute_result"
    }
   ],
   "source": [
    "list(filter(get_5s, list(range(1,100))))"
   ]
  },
  {
   "cell_type": "code",
   "execution_count": 23,
   "id": "c79f3c0a",
   "metadata": {},
   "outputs": [],
   "source": [
    "def cube_nums(x):\n",
    "    return x**3"
   ]
  },
  {
   "cell_type": "code",
   "execution_count": 24,
   "id": "a7cdb151",
   "metadata": {},
   "outputs": [
    {
     "data": {
      "text/plain": [
       "[1, 8, 27, 64, 125, 216, 343, 512, 729, 1000]"
      ]
     },
     "execution_count": 24,
     "metadata": {},
     "output_type": "execute_result"
    }
   ],
   "source": [
    "list(map(cube_nums, [1,2,3,4,5,6,7,8,9,10]))"
   ]
  },
  {
   "cell_type": "markdown",
   "id": "9b33bc61",
   "metadata": {},
   "source": [
    "# reduce"
   ]
  },
  {
   "cell_type": "code",
   "execution_count": 25,
   "id": "56e743ff",
   "metadata": {},
   "outputs": [],
   "source": [
    "from functools import reduce"
   ]
  },
  {
   "cell_type": "code",
   "execution_count": 27,
   "id": "8d8fd2cb",
   "metadata": {},
   "outputs": [
    {
     "data": {
      "text/plain": [
       "3628800"
      ]
     },
     "execution_count": 27,
     "metadata": {},
     "output_type": "execute_result"
    }
   ],
   "source": [
    "reduce(lambda x,y:x*y,[1,2,3,4,5,6,7,8,9,10])"
   ]
  },
  {
   "cell_type": "markdown",
   "id": "ccc1a2af",
   "metadata": {},
   "source": [
    "# print"
   ]
  },
  {
   "cell_type": "code",
   "execution_count": 34,
   "id": "6ed00b19",
   "metadata": {},
   "outputs": [
    {
     "name": "stdout",
     "output_type": "stream",
     "text": [
      "Raghul Ramesh Python Chennai\n"
     ]
    }
   ],
   "source": [
    "name=\"Raghul Ramesh\"\n",
    "tech=\"Python\"\n",
    "city=\"Chennai\"\n",
    "\n",
    "print(name,tech,city)"
   ]
  },
  {
   "cell_type": "code",
   "execution_count": 35,
   "id": "90805445",
   "metadata": {},
   "outputs": [
    {
     "name": "stdout",
     "output_type": "stream",
     "text": [
      "Trainer name, technology and city: ('Raghul Ramesh', 'Python', 'Chennai')\n"
     ]
    }
   ],
   "source": [
    "print(\"Trainer name, technology and city:\",(name,tech,city))"
   ]
  },
  {
   "cell_type": "code",
   "execution_count": 36,
   "id": "55e9b807",
   "metadata": {},
   "outputs": [
    {
     "name": "stdout",
     "output_type": "stream",
     "text": [
      "Trainer name: Raghul Ramesh , Technology:Python, City:Chennai\n"
     ]
    }
   ],
   "source": [
    "print(\"Trainer name: {} , Technology:{}, City:{}\".format(name, tech, city))"
   ]
  },
  {
   "cell_type": "code",
   "execution_count": 39,
   "id": "1958b3d3",
   "metadata": {},
   "outputs": [
    {
     "name": "stdout",
     "output_type": "stream",
     "text": [
      "Trainer name: Raghul Ramesh , Technology:Python, City:Chennai\n"
     ]
    }
   ],
   "source": [
    "print(\"Trainer name: {0} , Technology:{2}, City:{1}\".format(name, city,tech))"
   ]
  },
  {
   "cell_type": "code",
   "execution_count": 37,
   "id": "daa78f3c",
   "metadata": {},
   "outputs": [
    {
     "name": "stdout",
     "output_type": "stream",
     "text": [
      "Trainer name: Raghul Ramesh , Technology:Python, City:Chennai\n"
     ]
    }
   ],
   "source": [
    "print(f\"Trainer name: {name} , Technology:{tech}, City:{city}\")"
   ]
  },
  {
   "cell_type": "code",
   "execution_count": 40,
   "id": "6e43a91c",
   "metadata": {},
   "outputs": [
    {
     "name": "stdout",
     "output_type": "stream",
     "text": [
      "Trainer Name: Raghul Ramesh\n"
     ]
    }
   ],
   "source": [
    "print(\"Trainer Name:\",name)"
   ]
  },
  {
   "cell_type": "code",
   "execution_count": null,
   "id": "b8cbc1b9",
   "metadata": {},
   "outputs": [],
   "source": []
  }
 ],
 "metadata": {
  "kernelspec": {
   "display_name": "Python 3 (ipykernel)",
   "language": "python",
   "name": "python3"
  },
  "language_info": {
   "codemirror_mode": {
    "name": "ipython",
    "version": 3
   },
   "file_extension": ".py",
   "mimetype": "text/x-python",
   "name": "python",
   "nbconvert_exporter": "python",
   "pygments_lexer": "ipython3",
   "version": "3.8.10"
  }
 },
 "nbformat": 4,
 "nbformat_minor": 5
}
