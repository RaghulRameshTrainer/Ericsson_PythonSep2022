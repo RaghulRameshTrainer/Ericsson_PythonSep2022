{
 "cells": [
  {
   "cell_type": "markdown",
   "id": "fd61abcc",
   "metadata": {},
   "source": [
    "# DEFINITIONS"
   ]
  },
  {
   "cell_type": "code",
   "execution_count": 2,
   "id": "f8deb8e0",
   "metadata": {},
   "outputs": [],
   "source": [
    "def addnums(x,y):\n",
    "    return x+y"
   ]
  },
  {
   "cell_type": "code",
   "execution_count": 3,
   "id": "005e29f1",
   "metadata": {},
   "outputs": [
    {
     "data": {
      "text/plain": [
       "30"
      ]
     },
     "execution_count": 3,
     "metadata": {},
     "output_type": "execute_result"
    }
   ],
   "source": [
    "addnums(10,20)"
   ]
  },
  {
   "cell_type": "code",
   "execution_count": 4,
   "id": "086ed98b",
   "metadata": {},
   "outputs": [
    {
     "ename": "TypeError",
     "evalue": "addnums() missing 1 required positional argument: 'y'",
     "output_type": "error",
     "traceback": [
      "\u001b[1;31m---------------------------------------------------------------------------\u001b[0m",
      "\u001b[1;31mTypeError\u001b[0m                                 Traceback (most recent call last)",
      "Input \u001b[1;32mIn [4]\u001b[0m, in \u001b[0;36m<cell line: 1>\u001b[1;34m()\u001b[0m\n\u001b[1;32m----> 1\u001b[0m \u001b[43maddnums\u001b[49m\u001b[43m(\u001b[49m\u001b[38;5;241;43m10\u001b[39;49m\u001b[43m)\u001b[49m\n",
      "\u001b[1;31mTypeError\u001b[0m: addnums() missing 1 required positional argument: 'y'"
     ]
    }
   ],
   "source": [
    "addnums(10)"
   ]
  },
  {
   "cell_type": "code",
   "execution_count": 5,
   "id": "c82d8d9f",
   "metadata": {},
   "outputs": [
    {
     "ename": "TypeError",
     "evalue": "addnums() takes 2 positional arguments but 3 were given",
     "output_type": "error",
     "traceback": [
      "\u001b[1;31m---------------------------------------------------------------------------\u001b[0m",
      "\u001b[1;31mTypeError\u001b[0m                                 Traceback (most recent call last)",
      "Input \u001b[1;32mIn [5]\u001b[0m, in \u001b[0;36m<cell line: 1>\u001b[1;34m()\u001b[0m\n\u001b[1;32m----> 1\u001b[0m \u001b[43maddnums\u001b[49m\u001b[43m(\u001b[49m\u001b[38;5;241;43m10\u001b[39;49m\u001b[43m,\u001b[49m\u001b[38;5;241;43m20\u001b[39;49m\u001b[43m,\u001b[49m\u001b[38;5;241;43m30\u001b[39;49m\u001b[43m)\u001b[49m\n",
      "\u001b[1;31mTypeError\u001b[0m: addnums() takes 2 positional arguments but 3 were given"
     ]
    }
   ],
   "source": [
    "addnums(10,20,30)"
   ]
  },
  {
   "cell_type": "code",
   "execution_count": 6,
   "id": "48da5f77",
   "metadata": {},
   "outputs": [],
   "source": [
    "def addnums(x,y):\n",
    "    \"\"\"the addnums function take two numbers as an input and returns sum of them\"\"\"\n",
    "    return x+y"
   ]
  },
  {
   "cell_type": "code",
   "execution_count": 7,
   "id": "e49466a0",
   "metadata": {},
   "outputs": [
    {
     "data": {
      "text/plain": [
       "'the addnums function take two numbers as an input and returns sum of them'"
      ]
     },
     "execution_count": 7,
     "metadata": {},
     "output_type": "execute_result"
    }
   ],
   "source": [
    "addnums.__doc__"
   ]
  },
  {
   "cell_type": "code",
   "execution_count": 8,
   "id": "2759a5e6",
   "metadata": {},
   "outputs": [
    {
     "data": {
      "text/plain": [
       "300"
      ]
     },
     "execution_count": 8,
     "metadata": {},
     "output_type": "execute_result"
    }
   ],
   "source": [
    "addnums(100,200)"
   ]
  },
  {
   "cell_type": "code",
   "execution_count": 10,
   "id": "7f550672",
   "metadata": {},
   "outputs": [
    {
     "ename": "TypeError",
     "evalue": "addnums() missing 1 required positional argument: 'y'",
     "output_type": "error",
     "traceback": [
      "\u001b[1;31m---------------------------------------------------------------------------\u001b[0m",
      "\u001b[1;31mTypeError\u001b[0m                                 Traceback (most recent call last)",
      "Input \u001b[1;32mIn [10]\u001b[0m, in \u001b[0;36m<cell line: 1>\u001b[1;34m()\u001b[0m\n\u001b[1;32m----> 1\u001b[0m \u001b[43maddnums\u001b[49m\u001b[43m(\u001b[49m\u001b[38;5;241;43m10\u001b[39;49m\u001b[43m)\u001b[49m\n",
      "\u001b[1;31mTypeError\u001b[0m: addnums() missing 1 required positional argument: 'y'"
     ]
    }
   ],
   "source": [
    "addnums(10)"
   ]
  },
  {
   "cell_type": "code",
   "execution_count": 11,
   "id": "6c722296",
   "metadata": {},
   "outputs": [],
   "source": [
    "def addnums(x,y=0):  #Default value assigned to argument 'y'\n",
    "    \"\"\"the addnums function take two numbers as an input and returns sum of them\"\"\"\n",
    "    return x+y"
   ]
  },
  {
   "cell_type": "code",
   "execution_count": 12,
   "id": "94c73f9c",
   "metadata": {},
   "outputs": [
    {
     "data": {
      "text/plain": [
       "11"
      ]
     },
     "execution_count": 12,
     "metadata": {},
     "output_type": "execute_result"
    }
   ],
   "source": [
    "addnums(5,6)"
   ]
  },
  {
   "cell_type": "code",
   "execution_count": 13,
   "id": "e5b858cb",
   "metadata": {},
   "outputs": [
    {
     "data": {
      "text/plain": [
       "5"
      ]
     },
     "execution_count": 13,
     "metadata": {},
     "output_type": "execute_result"
    }
   ],
   "source": [
    "addnums(5)"
   ]
  },
  {
   "cell_type": "code",
   "execution_count": 16,
   "id": "ab267f72",
   "metadata": {},
   "outputs": [],
   "source": [
    "def addnums(x,y,*z):\n",
    "    print(\"x:\",x)\n",
    "    print(\"y:\",y)\n",
    "    print(\"z:\",z)\n"
   ]
  },
  {
   "cell_type": "code",
   "execution_count": 17,
   "id": "0626ad09",
   "metadata": {},
   "outputs": [
    {
     "name": "stdout",
     "output_type": "stream",
     "text": [
      "x: 10\n",
      "y: 20\n",
      "z: (30, 40, 50)\n"
     ]
    }
   ],
   "source": [
    "addnums(10,20,30,40,50)"
   ]
  },
  {
   "cell_type": "code",
   "execution_count": 20,
   "id": "95c542fb",
   "metadata": {},
   "outputs": [],
   "source": [
    "def addnums(x,*y):\n",
    "    print(\"x:\",x)\n",
    "    print(\"y:\",y)\n",
    "\n"
   ]
  },
  {
   "cell_type": "code",
   "execution_count": 21,
   "id": "7b38070a",
   "metadata": {},
   "outputs": [
    {
     "name": "stdout",
     "output_type": "stream",
     "text": [
      "x: 10\n",
      "y: (20, 30, 40, 50)\n"
     ]
    }
   ],
   "source": [
    "addnums(10,20,30,40,50)"
   ]
  },
  {
   "cell_type": "code",
   "execution_count": 22,
   "id": "7ff8394f",
   "metadata": {},
   "outputs": [
    {
     "name": "stdout",
     "output_type": "stream",
     "text": [
      "x: 10\n",
      "y: ()\n"
     ]
    }
   ],
   "source": [
    "addnums(10)"
   ]
  },
  {
   "cell_type": "code",
   "execution_count": 23,
   "id": "0e3e441f",
   "metadata": {},
   "outputs": [],
   "source": [
    "def addnums(x,*y):\n",
    "    return x+sum(y)"
   ]
  },
  {
   "cell_type": "code",
   "execution_count": 25,
   "id": "ec1bcddf",
   "metadata": {},
   "outputs": [
    {
     "data": {
      "text/plain": [
       "10"
      ]
     },
     "execution_count": 25,
     "metadata": {},
     "output_type": "execute_result"
    }
   ],
   "source": [
    "addnums(10)"
   ]
  },
  {
   "cell_type": "code",
   "execution_count": 26,
   "id": "6c3e8264",
   "metadata": {},
   "outputs": [
    {
     "data": {
      "text/plain": [
       "30"
      ]
     },
     "execution_count": 26,
     "metadata": {},
     "output_type": "execute_result"
    }
   ],
   "source": [
    "addnums(10,20)"
   ]
  },
  {
   "cell_type": "code",
   "execution_count": 27,
   "id": "4444cefb",
   "metadata": {},
   "outputs": [
    {
     "data": {
      "text/plain": [
       "60"
      ]
     },
     "execution_count": 27,
     "metadata": {},
     "output_type": "execute_result"
    }
   ],
   "source": [
    "addnums(10,20,30)"
   ]
  },
  {
   "cell_type": "code",
   "execution_count": 29,
   "id": "fd3c254b",
   "metadata": {},
   "outputs": [
    {
     "data": {
      "text/plain": [
       "550"
      ]
     },
     "execution_count": 29,
     "metadata": {},
     "output_type": "execute_result"
    }
   ],
   "source": [
    "addnums(10,20,30,40,50,60,70,80,90,100)"
   ]
  },
  {
   "cell_type": "code",
   "execution_count": 31,
   "id": "d17fe49f",
   "metadata": {},
   "outputs": [],
   "source": [
    "def addnums(*x):\n",
    "    return sum(x)"
   ]
  },
  {
   "cell_type": "code",
   "execution_count": 32,
   "id": "2a0e5f38",
   "metadata": {},
   "outputs": [
    {
     "data": {
      "text/plain": [
       "0"
      ]
     },
     "execution_count": 32,
     "metadata": {},
     "output_type": "execute_result"
    }
   ],
   "source": [
    "addnums()"
   ]
  },
  {
   "cell_type": "code",
   "execution_count": 33,
   "id": "abbce0b3",
   "metadata": {},
   "outputs": [
    {
     "data": {
      "text/plain": [
       "10"
      ]
     },
     "execution_count": 33,
     "metadata": {},
     "output_type": "execute_result"
    }
   ],
   "source": [
    "addnums(10)"
   ]
  },
  {
   "cell_type": "code",
   "execution_count": 34,
   "id": "69e7ceb3",
   "metadata": {},
   "outputs": [
    {
     "data": {
      "text/plain": [
       "30"
      ]
     },
     "execution_count": 34,
     "metadata": {},
     "output_type": "execute_result"
    }
   ],
   "source": [
    "addnums(10,20)"
   ]
  },
  {
   "cell_type": "code",
   "execution_count": 35,
   "id": "9aaff5ae",
   "metadata": {},
   "outputs": [
    {
     "data": {
      "text/plain": [
       "60"
      ]
     },
     "execution_count": 35,
     "metadata": {},
     "output_type": "execute_result"
    }
   ],
   "source": [
    "addnums(10,20,30)"
   ]
  },
  {
   "cell_type": "code",
   "execution_count": 38,
   "id": "1b130640",
   "metadata": {},
   "outputs": [],
   "source": [
    "def myfuncton(x,*y,**z):\n",
    "    print(\"x:\",x)\n",
    "    print(\"y:\",y)\n",
    "    print(\"z:\",z)"
   ]
  },
  {
   "cell_type": "code",
   "execution_count": 42,
   "id": "363a1553",
   "metadata": {},
   "outputs": [
    {
     "name": "stdout",
     "output_type": "stream",
     "text": [
      "x: 10\n",
      "y: (20, 30, 40, 50)\n",
      "z: {'day': 'Tuesday', 'month': 'September', 'year': 2022}\n"
     ]
    }
   ],
   "source": [
    "myfuncton(10,20,30,40,50,day=\"Tuesday\", month=\"September\", year=2022)"
   ]
  },
  {
   "cell_type": "code",
   "execution_count": 43,
   "id": "497211dd",
   "metadata": {},
   "outputs": [],
   "source": [
    "def circle_area(r):\n",
    "    return 3.14*r**2"
   ]
  },
  {
   "cell_type": "code",
   "execution_count": 44,
   "id": "e40baa6c",
   "metadata": {},
   "outputs": [
    {
     "data": {
      "text/plain": [
       "78.5"
      ]
     },
     "execution_count": 44,
     "metadata": {},
     "output_type": "execute_result"
    }
   ],
   "source": [
    "circle_area(5)"
   ]
  },
  {
   "cell_type": "markdown",
   "id": "0739649f",
   "metadata": {},
   "source": [
    "# Variable Scope"
   ]
  },
  {
   "cell_type": "code",
   "execution_count": 47,
   "id": "494b6117",
   "metadata": {},
   "outputs": [
    {
     "name": "stdout",
     "output_type": "stream",
     "text": [
      "Age before the function call :  38\n",
      "Age within the function is :  38\n",
      "Age After the function call :  38\n"
     ]
    }
   ],
   "source": [
    "age=38    #global variable\n",
    "\n",
    "def myfunction():\n",
    "    print(\"Age within the function is : \", age)\n",
    "    \n",
    "print(\"Age before the function call : \", age)\n",
    "myfunction()\n",
    "print(\"Age After the function call : \", age)"
   ]
  },
  {
   "cell_type": "code",
   "execution_count": 48,
   "id": "769c7d3d",
   "metadata": {},
   "outputs": [
    {
     "name": "stdout",
     "output_type": "stream",
     "text": [
      "Age before the function call :  38\n",
      "Age within the function is :  100\n",
      "Age After the function call :  38\n"
     ]
    }
   ],
   "source": [
    "age=38    #global variable\n",
    "\n",
    "def myfunction():\n",
    "    age=100   #local variable\n",
    "    print(\"Age within the function is : \", age)  #100\n",
    "    \n",
    "print(\"Age before the function call : \", age)  #38\n",
    "myfunction()\n",
    "print(\"Age After the function call : \", age) #38"
   ]
  },
  {
   "cell_type": "code",
   "execution_count": 50,
   "id": "c33bc4d0",
   "metadata": {},
   "outputs": [
    {
     "name": "stdout",
     "output_type": "stream",
     "text": [
      "Viewers Viewers Viewers \n"
     ]
    }
   ],
   "source": [
    "# def func(message, num = 1):\n",
    "#     print(message * num)\n",
    " \n",
    "# #func('Welcome')\n",
    "# func('Viewers ', 3)"
   ]
  },
  {
   "cell_type": "code",
   "execution_count": 52,
   "id": "f8f4bbe1",
   "metadata": {},
   "outputs": [
    {
     "name": "stdout",
     "output_type": "stream",
     "text": [
      "Age before the function call :  38\n",
      "Age within the function is :  39\n",
      "Age After the function call :  39\n"
     ]
    }
   ],
   "source": [
    "age=38    #global variable\n",
    "\n",
    "def myfunction():\n",
    "    global age\n",
    "    age=39  \n",
    "    print(\"Age within the function is : \", age)  #39\n",
    "    \n",
    "print(\"Age before the function call : \", age)  #38\n",
    "myfunction()\n",
    "print(\"Age After the function call : \", age) #39"
   ]
  },
  {
   "cell_type": "code",
   "execution_count": null,
   "id": "a36187dd",
   "metadata": {},
   "outputs": [],
   "source": []
  }
 ],
 "metadata": {
  "kernelspec": {
   "display_name": "Python 3 (ipykernel)",
   "language": "python",
   "name": "python3"
  },
  "language_info": {
   "codemirror_mode": {
    "name": "ipython",
    "version": 3
   },
   "file_extension": ".py",
   "mimetype": "text/x-python",
   "name": "python",
   "nbconvert_exporter": "python",
   "pygments_lexer": "ipython3",
   "version": "3.8.10"
  }
 },
 "nbformat": 4,
 "nbformat_minor": 5
}
