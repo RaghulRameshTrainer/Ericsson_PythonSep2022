{
 "cells": [
  {
   "cell_type": "code",
   "execution_count": 1,
   "id": "89b4143f",
   "metadata": {},
   "outputs": [],
   "source": [
    "import datetime"
   ]
  },
  {
   "cell_type": "code",
   "execution_count": 2,
   "id": "832cf3e9",
   "metadata": {},
   "outputs": [
    {
     "name": "stdout",
     "output_type": "stream",
     "text": [
      "['MAXYEAR', 'MINYEAR', '__builtins__', '__cached__', '__doc__', '__file__', '__loader__', '__name__', '__package__', '__spec__', 'date', 'datetime', 'datetime_CAPI', 'sys', 'time', 'timedelta', 'timezone', 'tzinfo']\n"
     ]
    }
   ],
   "source": [
    "print(dir(datetime))"
   ]
  },
  {
   "cell_type": "code",
   "execution_count": 3,
   "id": "3050172d",
   "metadata": {},
   "outputs": [],
   "source": [
    "d=datetime.date(2000,11,25)"
   ]
  },
  {
   "cell_type": "code",
   "execution_count": 4,
   "id": "a3151eee",
   "metadata": {},
   "outputs": [
    {
     "data": {
      "text/plain": [
       "2000"
      ]
     },
     "execution_count": 4,
     "metadata": {},
     "output_type": "execute_result"
    }
   ],
   "source": [
    "d.year"
   ]
  },
  {
   "cell_type": "code",
   "execution_count": 5,
   "id": "384056b7",
   "metadata": {},
   "outputs": [
    {
     "data": {
      "text/plain": [
       "11"
      ]
     },
     "execution_count": 5,
     "metadata": {},
     "output_type": "execute_result"
    }
   ],
   "source": [
    "d.month"
   ]
  },
  {
   "cell_type": "code",
   "execution_count": 6,
   "id": "98a179b4",
   "metadata": {},
   "outputs": [
    {
     "data": {
      "text/plain": [
       "25"
      ]
     },
     "execution_count": 6,
     "metadata": {},
     "output_type": "execute_result"
    }
   ],
   "source": [
    "d.day"
   ]
  },
  {
   "cell_type": "code",
   "execution_count": 11,
   "id": "fa0e4ec9",
   "metadata": {},
   "outputs": [
    {
     "name": "stdout",
     "output_type": "stream",
     "text": [
      "2023-04-16\n"
     ]
    }
   ],
   "source": [
    "tday=datetime.date(2022,9,28)\n",
    "n=datetime.timedelta(200)\n",
    "\n",
    "print(tday+n)"
   ]
  },
  {
   "cell_type": "code",
   "execution_count": 12,
   "id": "29889214",
   "metadata": {},
   "outputs": [
    {
     "data": {
      "text/plain": [
       "datetime.datetime(2022, 9, 28, 11, 3, 39, 439659)"
      ]
     },
     "execution_count": 12,
     "metadata": {},
     "output_type": "execute_result"
    }
   ],
   "source": [
    "datetime.datetime.now()"
   ]
  },
  {
   "cell_type": "code",
   "execution_count": 13,
   "id": "071af1c3",
   "metadata": {},
   "outputs": [
    {
     "data": {
      "text/plain": [
       "datetime.date(2022, 9, 28)"
      ]
     },
     "execution_count": 13,
     "metadata": {},
     "output_type": "execute_result"
    }
   ],
   "source": [
    "datetime.date.today()"
   ]
  },
  {
   "cell_type": "code",
   "execution_count": null,
   "id": "297dedc5",
   "metadata": {},
   "outputs": [],
   "source": [
    "%a  Weekday's abbreviated name   => Sun, Mon, Tue....\n",
    "%A  Weekday fullname             => Sunday, Monday...Saturday\n",
    "%b  Month abbreviated name  => Jan, Feb, Mar.....Dec\n",
    "%B  Months fullname  => January, February....December\n",
    "%d  day of month                => 01,02,.....31\n",
    "%m  Months in number        => 01,02...12\n",
    "%y  Year in 2 digit         => 20,21,22\n",
    "%Y  Year in 4 digit         => 2022,2023\n",
    "%H  Hour                    => 00,01,02,......23\n",
    "%I  hour in 12 hrs fmt      => 01,02.........12\n",
    "%p  AM|PM\n",
    "%M  Minute                 => 00,01,.....59\n",
    "%S Seconds                 => 00,01,02.......59\n",
    "\n",
    "\n"
   ]
  },
  {
   "cell_type": "code",
   "execution_count": 21,
   "id": "bec5e588",
   "metadata": {},
   "outputs": [
    {
     "name": "stdout",
     "output_type": "stream",
     "text": [
      "2022-09-28 11:15:25.953072\n",
      "09/28/2022 11:15 AM\n",
      "Wednesday,28 September , 2022  11:15:25\n",
      "2022-09-28\n"
     ]
    }
   ],
   "source": [
    "cur_time=datetime.datetime.now()\n",
    "print(cur_time)\n",
    "\n",
    "print(cur_time.strftime('%m/%d/%Y %I:%M %p'))\n",
    "print(cur_time.strftime(\"%A,%d %B , %Y  %H:%M:%S\"))\n",
    "print(cur_time.strftime(\"%Y-%m-%d\"))"
   ]
  },
  {
   "cell_type": "code",
   "execution_count": null,
   "id": "2a725898",
   "metadata": {},
   "outputs": [],
   "source": []
  }
 ],
 "metadata": {
  "kernelspec": {
   "display_name": "Python 3 (ipykernel)",
   "language": "python",
   "name": "python3"
  },
  "language_info": {
   "codemirror_mode": {
    "name": "ipython",
    "version": 3
   },
   "file_extension": ".py",
   "mimetype": "text/x-python",
   "name": "python",
   "nbconvert_exporter": "python",
   "pygments_lexer": "ipython3",
   "version": "3.8.10"
  }
 },
 "nbformat": 4,
 "nbformat_minor": 5
}
